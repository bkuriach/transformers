{
 "cells": [
  {
   "cell_type": "code",
   "execution_count": 1,
   "metadata": {
    "tags": []
   },
   "outputs": [
    {
     "name": "stderr",
     "output_type": "stream",
     "text": [
      "2023-03-24 07:12:59.823592: I tensorflow/core/platform/cpu_feature_guard.cc:193] This TensorFlow binary is optimized with oneAPI Deep Neural Network Library (oneDNN) to use the following CPU instructions in performance-critical operations:  AVX2 FMA\n",
      "To enable them in other operations, rebuild TensorFlow with the appropriate compiler flags.\n",
      "2023-03-24 07:13:00.030931: E tensorflow/stream_executor/cuda/cuda_blas.cc:2981] Unable to register cuBLAS factory: Attempting to register factory for plugin cuBLAS when one has already been registered\n",
      "2023-03-24 07:13:00.809132: W tensorflow/stream_executor/platform/default/dso_loader.cc:64] Could not load dynamic library 'libnvinfer.so.7'; dlerror: libnvinfer.so.7: cannot open shared object file: No such file or directory; LD_LIBRARY_PATH: /opt/intel/compilers_and_libraries_2018.3.222/linux/mpi/intel64/lib:/opt/intel/compilers_and_libraries_2018.3.222/linux/mpi/mic/lib::/usr/local/cuda/lib64:/usr/local/cuda/extras/CUPTI/lib64/\n",
      "2023-03-24 07:13:00.812077: W tensorflow/stream_executor/platform/default/dso_loader.cc:64] Could not load dynamic library 'libnvinfer_plugin.so.7'; dlerror: libnvinfer_plugin.so.7: cannot open shared object file: No such file or directory; LD_LIBRARY_PATH: /opt/intel/compilers_and_libraries_2018.3.222/linux/mpi/intel64/lib:/opt/intel/compilers_and_libraries_2018.3.222/linux/mpi/mic/lib::/usr/local/cuda/lib64:/usr/local/cuda/extras/CUPTI/lib64/\n",
      "2023-03-24 07:13:00.812092: W tensorflow/compiler/tf2tensorrt/utils/py_utils.cc:38] TF-TRT Warning: Cannot dlopen some TensorRT libraries. If you would like to use Nvidia GPU with TensorRT, please make sure the missing libraries mentioned above are installed properly.\n"
     ]
    }
   ],
   "source": [
    "import numpy as np\n",
    "import pandas as pd\n",
    "import seaborn as sn\n",
    "import matplotlib.pyplot as plt\n",
    "\n",
    "\n",
    "from sklearn.metrics import f1_score, accuracy_score, confusion_matrix\n",
    "from sklearn.model_selection import train_test_split\n",
    "\n",
    "from datasets import load_dataset\n",
    "from transformers import (\n",
    "    AutoTokenizer,\n",
    "    AutoModelForSequenceClassification,\n",
    "    Trainer,\n",
    "    TrainingArguments,\n",
    "    pipeline,\n",
    "    AutoConfig\n",
    ")\n",
    "\n",
    "import torch\n",
    "from torchinfo import summary"
   ]
  },
  {
   "cell_type": "code",
   "execution_count": 2,
   "metadata": {
    "tags": []
   },
   "outputs": [],
   "source": [
    "df_ = pd.read_csv('../data/AirlineTweets.csv')"
   ]
  },
  {
   "cell_type": "code",
   "execution_count": 3,
   "metadata": {
    "tags": []
   },
   "outputs": [
    {
     "data": {
      "text/html": [
       "<div>\n",
       "<style scoped>\n",
       "    .dataframe tbody tr th:only-of-type {\n",
       "        vertical-align: middle;\n",
       "    }\n",
       "\n",
       "    .dataframe tbody tr th {\n",
       "        vertical-align: top;\n",
       "    }\n",
       "\n",
       "    .dataframe thead th {\n",
       "        text-align: right;\n",
       "    }\n",
       "</style>\n",
       "<table border=\"1\" class=\"dataframe\">\n",
       "  <thead>\n",
       "    <tr style=\"text-align: right;\">\n",
       "      <th></th>\n",
       "      <th>tweet_id</th>\n",
       "      <th>airline_sentiment</th>\n",
       "      <th>airline_sentiment_confidence</th>\n",
       "      <th>negativereason</th>\n",
       "      <th>negativereason_confidence</th>\n",
       "      <th>airline</th>\n",
       "      <th>airline_sentiment_gold</th>\n",
       "      <th>name</th>\n",
       "      <th>negativereason_gold</th>\n",
       "      <th>retweet_count</th>\n",
       "      <th>text</th>\n",
       "      <th>tweet_coord</th>\n",
       "      <th>tweet_created</th>\n",
       "      <th>tweet_location</th>\n",
       "      <th>user_timezone</th>\n",
       "    </tr>\n",
       "  </thead>\n",
       "  <tbody>\n",
       "    <tr>\n",
       "      <th>0</th>\n",
       "      <td>570306133677760513</td>\n",
       "      <td>neutral</td>\n",
       "      <td>1.0000</td>\n",
       "      <td>NaN</td>\n",
       "      <td>NaN</td>\n",
       "      <td>Virgin America</td>\n",
       "      <td>NaN</td>\n",
       "      <td>cairdin</td>\n",
       "      <td>NaN</td>\n",
       "      <td>0</td>\n",
       "      <td>@VirginAmerica What @dhepburn said.</td>\n",
       "      <td>NaN</td>\n",
       "      <td>2015-02-24 11:35:52 -0800</td>\n",
       "      <td>NaN</td>\n",
       "      <td>Eastern Time (US &amp; Canada)</td>\n",
       "    </tr>\n",
       "    <tr>\n",
       "      <th>1</th>\n",
       "      <td>570301130888122368</td>\n",
       "      <td>positive</td>\n",
       "      <td>0.3486</td>\n",
       "      <td>NaN</td>\n",
       "      <td>0.0000</td>\n",
       "      <td>Virgin America</td>\n",
       "      <td>NaN</td>\n",
       "      <td>jnardino</td>\n",
       "      <td>NaN</td>\n",
       "      <td>0</td>\n",
       "      <td>@VirginAmerica plus you've added commercials t...</td>\n",
       "      <td>NaN</td>\n",
       "      <td>2015-02-24 11:15:59 -0800</td>\n",
       "      <td>NaN</td>\n",
       "      <td>Pacific Time (US &amp; Canada)</td>\n",
       "    </tr>\n",
       "    <tr>\n",
       "      <th>2</th>\n",
       "      <td>570301083672813571</td>\n",
       "      <td>neutral</td>\n",
       "      <td>0.6837</td>\n",
       "      <td>NaN</td>\n",
       "      <td>NaN</td>\n",
       "      <td>Virgin America</td>\n",
       "      <td>NaN</td>\n",
       "      <td>yvonnalynn</td>\n",
       "      <td>NaN</td>\n",
       "      <td>0</td>\n",
       "      <td>@VirginAmerica I didn't today... Must mean I n...</td>\n",
       "      <td>NaN</td>\n",
       "      <td>2015-02-24 11:15:48 -0800</td>\n",
       "      <td>Lets Play</td>\n",
       "      <td>Central Time (US &amp; Canada)</td>\n",
       "    </tr>\n",
       "    <tr>\n",
       "      <th>3</th>\n",
       "      <td>570301031407624196</td>\n",
       "      <td>negative</td>\n",
       "      <td>1.0000</td>\n",
       "      <td>Bad Flight</td>\n",
       "      <td>0.7033</td>\n",
       "      <td>Virgin America</td>\n",
       "      <td>NaN</td>\n",
       "      <td>jnardino</td>\n",
       "      <td>NaN</td>\n",
       "      <td>0</td>\n",
       "      <td>@VirginAmerica it's really aggressive to blast...</td>\n",
       "      <td>NaN</td>\n",
       "      <td>2015-02-24 11:15:36 -0800</td>\n",
       "      <td>NaN</td>\n",
       "      <td>Pacific Time (US &amp; Canada)</td>\n",
       "    </tr>\n",
       "    <tr>\n",
       "      <th>4</th>\n",
       "      <td>570300817074462722</td>\n",
       "      <td>negative</td>\n",
       "      <td>1.0000</td>\n",
       "      <td>Can't Tell</td>\n",
       "      <td>1.0000</td>\n",
       "      <td>Virgin America</td>\n",
       "      <td>NaN</td>\n",
       "      <td>jnardino</td>\n",
       "      <td>NaN</td>\n",
       "      <td>0</td>\n",
       "      <td>@VirginAmerica and it's a really big bad thing...</td>\n",
       "      <td>NaN</td>\n",
       "      <td>2015-02-24 11:14:45 -0800</td>\n",
       "      <td>NaN</td>\n",
       "      <td>Pacific Time (US &amp; Canada)</td>\n",
       "    </tr>\n",
       "  </tbody>\n",
       "</table>\n",
       "</div>"
      ],
      "text/plain": [
       "             tweet_id airline_sentiment  airline_sentiment_confidence  \\\n",
       "0  570306133677760513           neutral                        1.0000   \n",
       "1  570301130888122368          positive                        0.3486   \n",
       "2  570301083672813571           neutral                        0.6837   \n",
       "3  570301031407624196          negative                        1.0000   \n",
       "4  570300817074462722          negative                        1.0000   \n",
       "\n",
       "  negativereason  negativereason_confidence         airline  \\\n",
       "0            NaN                        NaN  Virgin America   \n",
       "1            NaN                     0.0000  Virgin America   \n",
       "2            NaN                        NaN  Virgin America   \n",
       "3     Bad Flight                     0.7033  Virgin America   \n",
       "4     Can't Tell                     1.0000  Virgin America   \n",
       "\n",
       "  airline_sentiment_gold        name negativereason_gold  retweet_count  \\\n",
       "0                    NaN     cairdin                 NaN              0   \n",
       "1                    NaN    jnardino                 NaN              0   \n",
       "2                    NaN  yvonnalynn                 NaN              0   \n",
       "3                    NaN    jnardino                 NaN              0   \n",
       "4                    NaN    jnardino                 NaN              0   \n",
       "\n",
       "                                                text tweet_coord  \\\n",
       "0                @VirginAmerica What @dhepburn said.         NaN   \n",
       "1  @VirginAmerica plus you've added commercials t...         NaN   \n",
       "2  @VirginAmerica I didn't today... Must mean I n...         NaN   \n",
       "3  @VirginAmerica it's really aggressive to blast...         NaN   \n",
       "4  @VirginAmerica and it's a really big bad thing...         NaN   \n",
       "\n",
       "               tweet_created tweet_location               user_timezone  \n",
       "0  2015-02-24 11:35:52 -0800            NaN  Eastern Time (US & Canada)  \n",
       "1  2015-02-24 11:15:59 -0800            NaN  Pacific Time (US & Canada)  \n",
       "2  2015-02-24 11:15:48 -0800      Lets Play  Central Time (US & Canada)  \n",
       "3  2015-02-24 11:15:36 -0800            NaN  Pacific Time (US & Canada)  \n",
       "4  2015-02-24 11:14:45 -0800            NaN  Pacific Time (US & Canada)  "
      ]
     },
     "execution_count": 3,
     "metadata": {},
     "output_type": "execute_result"
    }
   ],
   "source": [
    "df_.head()"
   ]
  },
  {
   "cell_type": "code",
   "execution_count": 4,
   "metadata": {
    "tags": []
   },
   "outputs": [],
   "source": [
    "df = df_[['airline_sentiment','text']].copy()"
   ]
  },
  {
   "cell_type": "code",
   "execution_count": 5,
   "metadata": {
    "tags": []
   },
   "outputs": [
    {
     "data": {
      "text/html": [
       "<div>\n",
       "<style scoped>\n",
       "    .dataframe tbody tr th:only-of-type {\n",
       "        vertical-align: middle;\n",
       "    }\n",
       "\n",
       "    .dataframe tbody tr th {\n",
       "        vertical-align: top;\n",
       "    }\n",
       "\n",
       "    .dataframe thead th {\n",
       "        text-align: right;\n",
       "    }\n",
       "</style>\n",
       "<table border=\"1\" class=\"dataframe\">\n",
       "  <thead>\n",
       "    <tr style=\"text-align: right;\">\n",
       "      <th></th>\n",
       "      <th>airline_sentiment</th>\n",
       "      <th>text</th>\n",
       "    </tr>\n",
       "  </thead>\n",
       "  <tbody>\n",
       "    <tr>\n",
       "      <th>0</th>\n",
       "      <td>neutral</td>\n",
       "      <td>@VirginAmerica What @dhepburn said.</td>\n",
       "    </tr>\n",
       "    <tr>\n",
       "      <th>1</th>\n",
       "      <td>positive</td>\n",
       "      <td>@VirginAmerica plus you've added commercials t...</td>\n",
       "    </tr>\n",
       "    <tr>\n",
       "      <th>2</th>\n",
       "      <td>neutral</td>\n",
       "      <td>@VirginAmerica I didn't today... Must mean I n...</td>\n",
       "    </tr>\n",
       "    <tr>\n",
       "      <th>3</th>\n",
       "      <td>negative</td>\n",
       "      <td>@VirginAmerica it's really aggressive to blast...</td>\n",
       "    </tr>\n",
       "    <tr>\n",
       "      <th>4</th>\n",
       "      <td>negative</td>\n",
       "      <td>@VirginAmerica and it's a really big bad thing...</td>\n",
       "    </tr>\n",
       "  </tbody>\n",
       "</table>\n",
       "</div>"
      ],
      "text/plain": [
       "  airline_sentiment                                               text\n",
       "0           neutral                @VirginAmerica What @dhepburn said.\n",
       "1          positive  @VirginAmerica plus you've added commercials t...\n",
       "2           neutral  @VirginAmerica I didn't today... Must mean I n...\n",
       "3          negative  @VirginAmerica it's really aggressive to blast...\n",
       "4          negative  @VirginAmerica and it's a really big bad thing..."
      ]
     },
     "execution_count": 5,
     "metadata": {},
     "output_type": "execute_result"
    }
   ],
   "source": [
    "df.head()"
   ]
  },
  {
   "cell_type": "code",
   "execution_count": 6,
   "metadata": {
    "tags": []
   },
   "outputs": [
    {
     "data": {
      "text/plain": [
       "<AxesSubplot: >"
      ]
     },
     "execution_count": 6,
     "metadata": {},
     "output_type": "execute_result"
    },
    {
     "data": {
      "image/png": "[encoded data removed]",
      "text/plain": [
       "<Figure size 640x480 with 1 Axes>"
      ]
     },
     "metadata": {},
     "output_type": "display_data"
    }
   ],
   "source": [
    "df['airline_sentiment'].hist()"
   ]
  },
  {
   "cell_type": "code",
   "execution_count": 7,
   "metadata": {
    "tags": []
   },
   "outputs": [],
   "source": [
    "target_map = {'positive':1, 'negative':0, 'neutral':2}\n",
    "df['target'] = df['airline_sentiment'].map(target_map)"
   ]
  },
  {
   "cell_type": "code",
   "execution_count": 8,
   "metadata": {
    "tags": []
   },
   "outputs": [],
   "source": [
    "df2 = df[['text','target']]\n",
    "df2.columns = ['sentence','label']\n",
    "df2.to_csv('../data/data.csv', index = None)"
   ]
  },
  {
   "cell_type": "code",
   "execution_count": 9,
   "metadata": {
    "tags": []
   },
   "outputs": [
    {
     "name": "stdout",
     "output_type": "stream",
     "text": [
      "Downloading and preparing dataset csv/default to /home/azureuser/.cache/huggingface/datasets/csv/default-d953ba33643e1446/0.0.0/6b34fb8fcf56f7c8ba51dc895bfa2bfbe43546f190a60fcf74bb5e8afdcc2317...\n"
     ]
    },
    {
     "data": {
      "application/vnd.jupyter.widget-view+json": {
       "model_id": "9f1c7724635b4cdcaf3a7ab04c322658",
       "version_major": 2,
       "version_minor": 0
      },
      "text/plain": [
       "Downloading data files:   0%|          | 0/1 [00:00<?, ?it/s]"
      ]
     },
     "metadata": {},
     "output_type": "display_data"
    },
    {
     "data": {
      "application/vnd.jupyter.widget-view+json": {
       "model_id": "1d26c9c94e9342f0b332a5f8f9637bba",
       "version_major": 2,
       "version_minor": 0
      },
      "text/plain": [
       "Extracting data files:   0%|          | 0/1 [00:00<?, ?it/s]"
      ]
     },
     "metadata": {},
     "output_type": "display_data"
    },
    {
     "data": {
      "application/vnd.jupyter.widget-view+json": {
       "model_id": "",
       "version_major": 2,
       "version_minor": 0
      },
      "text/plain": [
       "Generating train split: 0 examples [00:00, ? examples/s]"
      ]
     },
     "metadata": {},
     "output_type": "display_data"
    },
    {
     "name": "stdout",
     "output_type": "stream",
     "text": [
      "Dataset csv downloaded and prepared to /home/azureuser/.cache/huggingface/datasets/csv/default-d953ba33643e1446/0.0.0/6b34fb8fcf56f7c8ba51dc895bfa2bfbe43546f190a60fcf74bb5e8afdcc2317. Subsequent calls will reuse this data.\n"
     ]
    },
    {
     "name": "stderr",
     "output_type": "stream",
     "text": [
      "/anaconda/envs/transformer-gpu-env/lib/python3.8/site-packages/datasets/download/streaming_download_manager.py:776: FutureWarning: the 'mangle_dupe_cols' keyword is deprecated and will be removed in a future version. Please take steps to stop the use of 'mangle_dupe_cols'\n",
      "  return pd.read_csv(xopen(filepath_or_buffer, \"rb\", use_auth_token=use_auth_token), **kwargs)\n"
     ]
    },
    {
     "data": {
      "application/vnd.jupyter.widget-view+json": {
       "model_id": "1076da58205542a594d9e3a268cb36cd",
       "version_major": 2,
       "version_minor": 0
      },
      "text/plain": [
       "  0%|          | 0/1 [00:00<?, ?it/s]"
      ]
     },
     "metadata": {},
     "output_type": "display_data"
    }
   ],
   "source": [
    "raw_dataset = load_dataset('csv', data_files = '../data/data.csv')"
   ]
  },
  {
   "cell_type": "code",
   "execution_count": 10,
   "metadata": {
    "tags": []
   },
   "outputs": [
    {
     "data": {
      "text/plain": [
       "DatasetDict({\n",
       "    train: Dataset({\n",
       "        features: ['sentence', 'label'],\n",
       "        num_rows: 14640\n",
       "    })\n",
       "})"
      ]
     },
     "execution_count": 10,
     "metadata": {},
     "output_type": "execute_result"
    }
   ],
   "source": [
    "raw_dataset"
   ]
  },
  {
   "cell_type": "code",
   "execution_count": 11,
   "metadata": {
    "tags": []
   },
   "outputs": [],
   "source": [
    "split = raw_dataset['train'].train_test_split(test_size = 0.3, seed = 42)"
   ]
  },
  {
   "cell_type": "code",
   "execution_count": 12,
   "metadata": {
    "tags": []
   },
   "outputs": [
    {
     "data": {
      "text/plain": [
       "DatasetDict({\n",
       "    train: Dataset({\n",
       "        features: ['sentence', 'label'],\n",
       "        num_rows: 10248\n",
       "    })\n",
       "    test: Dataset({\n",
       "        features: ['sentence', 'label'],\n",
       "        num_rows: 4392\n",
       "    })\n",
       "})"
      ]
     },
     "execution_count": 12,
     "metadata": {},
     "output_type": "execute_result"
    }
   ],
   "source": [
    "split"
   ]
  },
  {
   "cell_type": "code",
   "execution_count": 13,
   "metadata": {
    "tags": []
   },
   "outputs": [],
   "source": [
    "checkpoint = 'distilbert-base-cased'"
   ]
  },
  {
   "cell_type": "code",
   "execution_count": 14,
   "metadata": {
    "tags": []
   },
   "outputs": [],
   "source": [
    "tokenizer = AutoTokenizer.from_pretrained(checkpoint)"
   ]
  },
  {
   "cell_type": "code",
   "execution_count": 15,
   "metadata": {
    "tags": []
   },
   "outputs": [],
   "source": [
    "def tokenize_fn(batch):\n",
    "    return tokenizer(batch['sentence'], truncation=True)"
   ]
  },
  {
   "cell_type": "code",
   "execution_count": 16,
   "metadata": {
    "tags": []
   },
   "outputs": [
    {
     "data": {
      "application/vnd.jupyter.widget-view+json": {
       "model_id": "",
       "version_major": 2,
       "version_minor": 0
      },
      "text/plain": [
       "Map:   0%|          | 0/10248 [00:00<?, ? examples/s]"
      ]
     },
     "metadata": {},
     "output_type": "display_data"
    },
    {
     "data": {
      "application/vnd.jupyter.widget-view+json": {
       "model_id": "",
       "version_major": 2,
       "version_minor": 0
      },
      "text/plain": [
       "Map:   0%|          | 0/4392 [00:00<?, ? examples/s]"
      ]
     },
     "metadata": {},
     "output_type": "display_data"
    }
   ],
   "source": [
    "tokenized_datasets = split.map(tokenize_fn, batched=True)"
   ]
  },
  {
   "cell_type": "code",
   "execution_count": 17,
   "metadata": {
    "tags": []
   },
   "outputs": [],
   "source": [
    "config = AutoConfig.from_pretrained(checkpoint)"
   ]
  },
  {
   "cell_type": "code",
   "execution_count": 18,
   "metadata": {
    "tags": []
   },
   "outputs": [
    {
     "data": {
      "text/plain": [
       "DistilBertConfig {\n",
       "  \"_name_or_path\": \"distilbert-base-cased\",\n",
       "  \"activation\": \"gelu\",\n",
       "  \"attention_dropout\": 0.1,\n",
       "  \"dim\": 768,\n",
       "  \"dropout\": 0.1,\n",
       "  \"hidden_dim\": 3072,\n",
       "  \"initializer_range\": 0.02,\n",
       "  \"max_position_embeddings\": 512,\n",
       "  \"model_type\": \"distilbert\",\n",
       "  \"n_heads\": 12,\n",
       "  \"n_layers\": 6,\n",
       "  \"output_past\": true,\n",
       "  \"pad_token_id\": 0,\n",
       "  \"qa_dropout\": 0.1,\n",
       "  \"seq_classif_dropout\": 0.2,\n",
       "  \"sinusoidal_pos_embds\": false,\n",
       "  \"tie_weights_\": true,\n",
       "  \"transformers_version\": \"4.24.0\",\n",
       "  \"vocab_size\": 28996\n",
       "}"
      ]
     },
     "execution_count": 18,
     "metadata": {},
     "output_type": "execute_result"
    }
   ],
   "source": [
    "config"
   ]
  },
  {
   "cell_type": "code",
   "execution_count": 19,
   "metadata": {
    "tags": []
   },
   "outputs": [
    {
     "data": {
      "text/plain": [
       "{0: 'LABEL_0', 1: 'LABEL_1'}"
      ]
     },
     "execution_count": 19,
     "metadata": {},
     "output_type": "execute_result"
    }
   ],
   "source": [
    "config.id2label"
   ]
  },
  {
   "cell_type": "code",
   "execution_count": 20,
   "metadata": {
    "tags": []
   },
   "outputs": [
    {
     "data": {
      "text/plain": [
       "{'LABEL_0': 0, 'LABEL_1': 1}"
      ]
     },
     "execution_count": 20,
     "metadata": {},
     "output_type": "execute_result"
    }
   ],
   "source": [
    "config.label2id"
   ]
  },
  {
   "cell_type": "code",
   "execution_count": 21,
   "metadata": {
    "tags": []
   },
   "outputs": [],
   "source": [
    "config.id2label = {v:k for k, v in target_map.items()}\n",
    "config.label2id = target_map"
   ]
  },
  {
   "cell_type": "code",
   "execution_count": 22,
   "metadata": {
    "tags": []
   },
   "outputs": [
    {
     "name": "stderr",
     "output_type": "stream",
     "text": [
      "Some weights of the model checkpoint at distilbert-base-cased were not used when initializing DistilBertForSequenceClassification: ['vocab_projector.bias', 'vocab_transform.bias', 'vocab_transform.weight', 'vocab_projector.weight', 'vocab_layer_norm.weight', 'vocab_layer_norm.bias']\n",
      "- This IS expected if you are initializing DistilBertForSequenceClassification from the checkpoint of a model trained on another task or with another architecture (e.g. initializing a BertForSequenceClassification model from a BertForPreTraining model).\n",
      "- This IS NOT expected if you are initializing DistilBertForSequenceClassification from the checkpoint of a model that you expect to be exactly identical (initializing a BertForSequenceClassification model from a BertForSequenceClassification model).\n",
      "Some weights of DistilBertForSequenceClassification were not initialized from the model checkpoint at distilbert-base-cased and are newly initialized: ['classifier.weight', 'pre_classifier.bias', 'classifier.bias', 'pre_classifier.weight']\n",
      "You should probably TRAIN this model on a down-stream task to be able to use it for predictions and inference.\n"
     ]
    }
   ],
   "source": [
    "model = AutoModelForSequenceClassification.from_pretrained(\n",
    "    checkpoint, config=config\n",
    ")"
   ]
  },
  {
   "cell_type": "code",
   "execution_count": 23,
   "metadata": {
    "tags": []
   },
   "outputs": [
    {
     "data": {
      "text/plain": [
       "================================================================================\n",
       "Layer (type:depth-idx)                                  Param #\n",
       "================================================================================\n",
       "DistilBertForSequenceClassification                     --\n",
       "├─DistilBertModel: 1-1                                  --\n",
       "│    └─Embeddings: 2-1                                  --\n",
       "│    │    └─Embedding: 3-1                              22,268,928\n",
       "│    │    └─Embedding: 3-2                              393,216\n",
       "│    │    └─LayerNorm: 3-3                              1,536\n",
       "│    │    └─Dropout: 3-4                                --\n",
       "│    └─Transformer: 2-2                                 --\n",
       "│    │    └─ModuleList: 3-5                             42,527,232\n",
       "├─Linear: 1-2                                           590,592\n",
       "├─Linear: 1-3                                           2,307\n",
       "├─Dropout: 1-4                                          --\n",
       "================================================================================\n",
       "Total params: 65,783,811\n",
       "Trainable params: 65,783,811\n",
       "Non-trainable params: 0\n",
       "================================================================================"
      ]
     },
     "execution_count": 23,
     "metadata": {},
     "output_type": "execute_result"
    }
   ],
   "source": [
    "summary(model)"
   ]
  },
  {
   "cell_type": "code",
   "execution_count": 24,
   "metadata": {
    "tags": []
   },
   "outputs": [],
   "source": [
    "training_args = TrainingArguments(\n",
    "    output_dir = 'training_dir',\n",
    "    evaluation_strategy='epoch',\n",
    "    save_strategy = 'epoch',\n",
    "    num_train_epochs = 3,\n",
    "    per_device_train_batch_size=16,\n",
    "    per_device_eval_batch_size=64,\n",
    ")"
   ]
  },
  {
   "cell_type": "code",
   "execution_count": 25,
   "metadata": {
    "tags": []
   },
   "outputs": [],
   "source": [
    "def compute_metrics(logits_and_labels):\n",
    "    logits, labels = logits_and_labels\n",
    "    predictions = np.argmax(logits, axis=-1)\n",
    "    acc = np.mean(predictions==labels)\n",
    "    f1 = f1_score(labels, predictions, average='macro')\n",
    "    return {'accuracy':acc, 'f1':f1}"
   ]
  },
  {
   "cell_type": "code",
   "execution_count": 26,
   "metadata": {
    "tags": []
   },
   "outputs": [],
   "source": [
    "trainer = Trainer(\n",
    "    model,\n",
    "    training_args,\n",
    "    train_dataset = tokenized_datasets[\"train\"],\n",
    "    eval_dataset = tokenized_datasets[\"test\"],\n",
    "    tokenizer = tokenizer,\n",
    "    compute_metrics = compute_metrics\n",
    ")"
   ]
  },
  {
   "cell_type": "code",
   "execution_count": 27,
   "metadata": {
    "tags": []
   },
   "outputs": [
    {
     "name": "stderr",
     "output_type": "stream",
     "text": [
      "The following columns in the training set don't have a corresponding argument in `DistilBertForSequenceClassification.forward` and have been ignored: sentence. If sentence are not expected by `DistilBertForSequenceClassification.forward`,  you can safely ignore this message.\n",
      "/anaconda/envs/transformer-gpu-env/lib/python3.8/site-packages/transformers/optimization.py:306: FutureWarning: This implementation of AdamW is deprecated and will be removed in a future version. Use the PyTorch implementation torch.optim.AdamW instead, or set `no_deprecation_warning=True` to disable this warning\n",
      "  warnings.warn(\n",
      "***** Running training *****\n",
      "  Num examples = 10248\n",
      "  Num Epochs = 3\n",
      "  Instantaneous batch size per device = 16\n",
      "  Total train batch size (w. parallel, distributed & accumulation) = 16\n",
      "  Gradient Accumulation steps = 1\n",
      "  Total optimization steps = 1923\n",
      "  Number of trainable parameters = 65783811\n"
     ]
    },
    {
     "name": "stdout",
     "output_type": "stream",
     "text": [
      "huggingface/tokenizers: The current process just got forked, after parallelism has already been used. Disabling parallelism to avoid deadlocks...\n",
      "To disable this warning, you can either:\n",
      "\t- Avoid using `tokenizers` before the fork if possible\n",
      "\t- Explicitly set the environment variable TOKENIZERS_PARALLELISM=(true | false)\n",
      "huggingface/tokenizers: The current process just got forked, after parallelism has already been used. Disabling parallelism to avoid deadlocks...\n",
      "To disable this warning, you can either:\n",
      "\t- Avoid using `tokenizers` before the fork if possible\n",
      "\t- Explicitly set the environment variable TOKENIZERS_PARALLELISM=(true | false)\n",
      "huggingface/tokenizers: The current process just got forked, after parallelism has already been used. Disabling parallelism to avoid deadlocks...\n",
      "To disable this warning, you can either:\n",
      "\t- Avoid using `tokenizers` before the fork if possible\n",
      "\t- Explicitly set the environment variable TOKENIZERS_PARALLELISM=(true | false)\n"
     ]
    },
    {
     "name": "stderr",
     "output_type": "stream",
     "text": [
      "You're using a DistilBertTokenizerFast tokenizer. Please note that with a fast tokenizer, using the `__call__` method is faster than using a method to encode the text followed by a call to the `pad` method to get a padded encoding.\n"
     ]
    },
    {
     "data": {
      "text/html": [
       "\n",
       "    <div>\n",
       "      \n",
       "      <progress value='1923' max='1923' style='width:300px; height:20px; vertical-align: middle;'></progress>\n",
       "      [1923/1923 06:42, Epoch 3/3]\n",
       "    </div>\n",
       "    <table border=\"1\" class=\"dataframe\">\n",
       "  <thead>\n",
       " <tr style=\"text-align: left;\">\n",
       "      <th>Epoch</th>\n",
       "      <th>Training Loss</th>\n",
       "      <th>Validation Loss</th>\n",
       "      <th>Accuracy</th>\n",
       "      <th>F1</th>\n",
       "    </tr>\n",
       "  </thead>\n",
       "  <tbody>\n",
       "    <tr>\n",
       "      <td>1</td>\n",
       "      <td>0.546300</td>\n",
       "      <td>0.431890</td>\n",
       "      <td>0.826503</td>\n",
       "      <td>0.773953</td>\n",
       "    </tr>\n",
       "    <tr>\n",
       "      <td>2</td>\n",
       "      <td>0.353200</td>\n",
       "      <td>0.504058</td>\n",
       "      <td>0.828552</td>\n",
       "      <td>0.778387</td>\n",
       "    </tr>\n",
       "    <tr>\n",
       "      <td>3</td>\n",
       "      <td>0.238600</td>\n",
       "      <td>0.648342</td>\n",
       "      <td>0.836521</td>\n",
       "      <td>0.782442</td>\n",
       "    </tr>\n",
       "  </tbody>\n",
       "</table><p>"
      ],
      "text/plain": [
       "<IPython.core.display.HTML object>"
      ]
     },
     "metadata": {},
     "output_type": "display_data"
    },
    {
     "name": "stdout",
     "output_type": "stream",
     "text": [
      "Attempted to log scalar metric loss:\n",
      "0.5463\n",
      "Attempted to log scalar metric learning_rate:\n",
      "3.699947997919917e-05\n",
      "Attempted to log scalar metric epoch:\n",
      "0.78\n"
     ]
    },
    {
     "name": "stderr",
     "output_type": "stream",
     "text": [
      "The following columns in the evaluation set don't have a corresponding argument in `DistilBertForSequenceClassification.forward` and have been ignored: sentence. If sentence are not expected by `DistilBertForSequenceClassification.forward`,  you can safely ignore this message.\n",
      "***** Running Evaluation *****\n",
      "  Num examples = 4392\n",
      "  Batch size = 64\n"
     ]
    },
    {
     "name": "stdout",
     "output_type": "stream",
     "text": [
      "Attempted to log scalar metric eval_loss:\n",
      "0.4318901300430298\n",
      "Attempted to log scalar metric eval_accuracy:\n",
      "0.8265027322404371\n",
      "Attempted to log scalar metric eval_f1:\n",
      "0.7739530786378063\n",
      "Attempted to log scalar metric eval_runtime:\n",
      "13.5437\n",
      "Attempted to log scalar metric eval_samples_per_second:\n",
      "324.283\n",
      "Attempted to log scalar metric eval_steps_per_second:\n",
      "5.095\n",
      "Attempted to log scalar metric epoch:\n",
      "1.0\n"
     ]
    },
    {
     "name": "stderr",
     "output_type": "stream",
     "text": [
      "Saving model checkpoint to training_dir/checkpoint-641\n",
      "Configuration saved in training_dir/checkpoint-641/config.json\n",
      "Model weights saved in training_dir/checkpoint-641/pytorch_model.bin\n",
      "tokenizer config file saved in training_dir/checkpoint-641/tokenizer_config.json\n",
      "Special tokens file saved in training_dir/checkpoint-641/special_tokens_map.json\n"
     ]
    },
    {
     "name": "stdout",
     "output_type": "stream",
     "text": [
      "Attempted to log scalar metric loss:\n",
      "0.3532\n",
      "Attempted to log scalar metric learning_rate:\n",
      "2.399895995839834e-05\n",
      "Attempted to log scalar metric epoch:\n",
      "1.56\n"
     ]
    },
    {
     "name": "stderr",
     "output_type": "stream",
     "text": [
      "The following columns in the evaluation set don't have a corresponding argument in `DistilBertForSequenceClassification.forward` and have been ignored: sentence. If sentence are not expected by `DistilBertForSequenceClassification.forward`,  you can safely ignore this message.\n",
      "***** Running Evaluation *****\n",
      "  Num examples = 4392\n",
      "  Batch size = 64\n"
     ]
    },
    {
     "name": "stdout",
     "output_type": "stream",
     "text": [
      "Attempted to log scalar metric eval_loss:\n",
      "0.5040578842163086\n",
      "Attempted to log scalar metric eval_accuracy:\n",
      "0.828551912568306\n",
      "Attempted to log scalar metric eval_f1:\n",
      "0.7783873846553759\n",
      "Attempted to log scalar metric eval_runtime:\n",
      "13.7271\n",
      "Attempted to log scalar metric eval_samples_per_second:\n",
      "319.952\n",
      "Attempted to log scalar metric eval_steps_per_second:\n",
      "5.027\n",
      "Attempted to log scalar metric epoch:\n",
      "2.0\n"
     ]
    },
    {
     "name": "stderr",
     "output_type": "stream",
     "text": [
      "Saving model checkpoint to training_dir/checkpoint-1282\n",
      "Configuration saved in training_dir/checkpoint-1282/config.json\n",
      "Model weights saved in training_dir/checkpoint-1282/pytorch_model.bin\n",
      "tokenizer config file saved in training_dir/checkpoint-1282/tokenizer_config.json\n",
      "Special tokens file saved in training_dir/checkpoint-1282/special_tokens_map.json\n"
     ]
    },
    {
     "name": "stdout",
     "output_type": "stream",
     "text": [
      "Attempted to log scalar metric loss:\n",
      "0.2386\n",
      "Attempted to log scalar metric learning_rate:\n",
      "1.0998439937597505e-05\n",
      "Attempted to log scalar metric epoch:\n",
      "2.34\n"
     ]
    },
    {
     "name": "stderr",
     "output_type": "stream",
     "text": [
      "The following columns in the evaluation set don't have a corresponding argument in `DistilBertForSequenceClassification.forward` and have been ignored: sentence. If sentence are not expected by `DistilBertForSequenceClassification.forward`,  you can safely ignore this message.\n",
      "***** Running Evaluation *****\n",
      "  Num examples = 4392\n",
      "  Batch size = 64\n"
     ]
    },
    {
     "name": "stdout",
     "output_type": "stream",
     "text": [
      "Attempted to log scalar metric eval_loss:\n",
      "0.6483418345451355\n",
      "Attempted to log scalar metric eval_accuracy:\n",
      "0.8365209471766849\n",
      "Attempted to log scalar metric eval_f1:\n",
      "0.7824421268764908\n",
      "Attempted to log scalar metric eval_runtime:\n",
      "13.7719\n",
      "Attempted to log scalar metric eval_samples_per_second:\n",
      "318.911\n",
      "Attempted to log scalar metric eval_steps_per_second:\n",
      "5.01\n",
      "Attempted to log scalar metric epoch:\n",
      "3.0\n"
     ]
    },
    {
     "name": "stderr",
     "output_type": "stream",
     "text": [
      "Saving model checkpoint to training_dir/checkpoint-1923\n",
      "Configuration saved in training_dir/checkpoint-1923/config.json\n",
      "Model weights saved in training_dir/checkpoint-1923/pytorch_model.bin\n",
      "tokenizer config file saved in training_dir/checkpoint-1923/tokenizer_config.json\n",
      "Special tokens file saved in training_dir/checkpoint-1923/special_tokens_map.json\n",
      "\n",
      "\n",
      "Training completed. Do not forget to share your model on huggingface.co/models =)\n",
      "\n",
      "\n"
     ]
    },
    {
     "name": "stdout",
     "output_type": "stream",
     "text": [
      "Attempted to log scalar metric train_runtime:\n",
      "404.13\n",
      "Attempted to log scalar metric train_samples_per_second:\n",
      "76.075\n",
      "Attempted to log scalar metric train_steps_per_second:\n",
      "4.758\n",
      "Attempted to log scalar metric total_flos:\n",
      "388376501242176.0\n",
      "Attempted to log scalar metric train_loss:\n",
      "0.3305944005338339\n",
      "Attempted to log scalar metric epoch:\n",
      "3.0\n"
     ]
    },
    {
     "data": {
      "text/plain": [
       "TrainOutput(global_step=1923, training_loss=0.3305944005338339, metrics={'train_runtime': 404.13, 'train_samples_per_second': 76.075, 'train_steps_per_second': 4.758, 'total_flos': 388376501242176.0, 'train_loss': 0.3305944005338339, 'epoch': 3.0})"
      ]
     },
     "execution_count": 27,
     "metadata": {},
     "output_type": "execute_result"
    }
   ],
   "source": [
    "trainer.train()"
   ]
  },
  {
   "cell_type": "code",
   "execution_count": 28,
   "metadata": {
    "tags": []
   },
   "outputs": [
    {
     "name": "stdout",
     "output_type": "stream",
     "text": [
      "huggingface/tokenizers: The current process just got forked, after parallelism has already been used. Disabling parallelism to avoid deadlocks...\n",
      "To disable this warning, you can either:\n",
      "\t- Avoid using `tokenizers` before the fork if possible\n",
      "\t- Explicitly set the environment variable TOKENIZERS_PARALLELISM=(true | false)\n",
      "checkpoint-1282  checkpoint-1923  checkpoint-641  runs\n"
     ]
    }
   ],
   "source": [
    "!ls training_dir"
   ]
  },
  {
   "cell_type": "code",
   "execution_count": 29,
   "metadata": {
    "tags": []
   },
   "outputs": [
    {
     "name": "stderr",
     "output_type": "stream",
     "text": [
      "loading configuration file training_dir/checkpoint-1282/config.json\n",
      "Model config DistilBertConfig {\n",
      "  \"_name_or_path\": \"training_dir/checkpoint-1282\",\n",
      "  \"activation\": \"gelu\",\n",
      "  \"architectures\": [\n",
      "    \"DistilBertForSequenceClassification\"\n",
      "  ],\n",
      "  \"attention_dropout\": 0.1,\n",
      "  \"dim\": 768,\n",
      "  \"dropout\": 0.1,\n",
      "  \"hidden_dim\": 3072,\n",
      "  \"id2label\": {\n",
      "    \"0\": \"negative\",\n",
      "    \"1\": \"positive\",\n",
      "    \"2\": \"neutral\"\n",
      "  },\n",
      "  \"initializer_range\": 0.02,\n",
      "  \"label2id\": {\n",
      "    \"negative\": 0,\n",
      "    \"neutral\": 2,\n",
      "    \"positive\": 1\n",
      "  },\n",
      "  \"max_position_embeddings\": 512,\n",
      "  \"model_type\": \"distilbert\",\n",
      "  \"n_heads\": 12,\n",
      "  \"n_layers\": 6,\n",
      "  \"output_past\": true,\n",
      "  \"pad_token_id\": 0,\n",
      "  \"problem_type\": \"single_label_classification\",\n",
      "  \"qa_dropout\": 0.1,\n",
      "  \"seq_classif_dropout\": 0.2,\n",
      "  \"sinusoidal_pos_embds\": false,\n",
      "  \"tie_weights_\": true,\n",
      "  \"torch_dtype\": \"float32\",\n",
      "  \"transformers_version\": \"4.24.0\",\n",
      "  \"vocab_size\": 28996\n",
      "}\n",
      "\n",
      "loading configuration file training_dir/checkpoint-1282/config.json\n",
      "Model config DistilBertConfig {\n",
      "  \"_name_or_path\": \"training_dir/checkpoint-1282\",\n",
      "  \"activation\": \"gelu\",\n",
      "  \"architectures\": [\n",
      "    \"DistilBertForSequenceClassification\"\n",
      "  ],\n",
      "  \"attention_dropout\": 0.1,\n",
      "  \"dim\": 768,\n",
      "  \"dropout\": 0.1,\n",
      "  \"hidden_dim\": 3072,\n",
      "  \"id2label\": {\n",
      "    \"0\": \"negative\",\n",
      "    \"1\": \"positive\",\n",
      "    \"2\": \"neutral\"\n",
      "  },\n",
      "  \"initializer_range\": 0.02,\n",
      "  \"label2id\": {\n",
      "    \"negative\": 0,\n",
      "    \"neutral\": 2,\n",
      "    \"positive\": 1\n",
      "  },\n",
      "  \"max_position_embeddings\": 512,\n",
      "  \"model_type\": \"distilbert\",\n",
      "  \"n_heads\": 12,\n",
      "  \"n_layers\": 6,\n",
      "  \"output_past\": true,\n",
      "  \"pad_token_id\": 0,\n",
      "  \"problem_type\": \"single_label_classification\",\n",
      "  \"qa_dropout\": 0.1,\n",
      "  \"seq_classif_dropout\": 0.2,\n",
      "  \"sinusoidal_pos_embds\": false,\n",
      "  \"tie_weights_\": true,\n",
      "  \"torch_dtype\": \"float32\",\n",
      "  \"transformers_version\": \"4.24.0\",\n",
      "  \"vocab_size\": 28996\n",
      "}\n",
      "\n",
      "loading weights file training_dir/checkpoint-1282/pytorch_model.bin\n",
      "All model checkpoint weights were used when initializing DistilBertForSequenceClassification.\n",
      "\n",
      "All the weights of DistilBertForSequenceClassification were initialized from the model checkpoint at training_dir/checkpoint-1282.\n",
      "If your task is similar to the task the model of the checkpoint was trained on, you can already use DistilBertForSequenceClassification for predictions without further training.\n",
      "loading file vocab.txt\n",
      "loading file tokenizer.json\n",
      "loading file added_tokens.json\n",
      "loading file special_tokens_map.json\n",
      "loading file tokenizer_config.json\n"
     ]
    }
   ],
   "source": [
    "saved_model = pipeline('text-classification',\n",
    "                       model='training_dir/checkpoint-1282',\n",
    "                       device=0)"
   ]
  },
  {
   "cell_type": "code",
   "execution_count": 30,
   "metadata": {
    "tags": []
   },
   "outputs": [
    {
     "data": {
      "text/plain": [
       "Dataset({\n",
       "    features: ['sentence', 'label'],\n",
       "    num_rows: 4392\n",
       "})"
      ]
     },
     "execution_count": 30,
     "metadata": {},
     "output_type": "execute_result"
    }
   ],
   "source": [
    "split['test']"
   ]
  },
  {
   "cell_type": "code",
   "execution_count": 31,
   "metadata": {
    "tags": []
   },
   "outputs": [
    {
     "name": "stderr",
     "output_type": "stream",
     "text": [
      "Disabling tokenizer parallelism, we're using DataLoader multithreading already\n"
     ]
    }
   ],
   "source": [
    "test_pred = saved_model(split['test']['sentence'])"
   ]
  },
  {
   "cell_type": "code",
   "execution_count": 32,
   "metadata": {
    "tags": []
   },
   "outputs": [
    {
     "data": {
      "text/plain": [
       "[{'label': 'positive', 'score': 0.9551592469215393},\n",
       " {'label': 'positive', 'score': 0.9053266048431396},\n",
       " {'label': 'negative', 'score': 0.7063663601875305},\n",
       " {'label': 'positive', 'score': 0.8024816513061523},\n",
       " {'label': 'neutral', 'score': 0.9045398235321045},\n",
       " {'label': 'negative', 'score': 0.9950581789016724},\n",
       " {'label': 'neutral', 'score': 0.9104073643684387},\n",
       " {'label': 'neutral', 'score': 0.9775722622871399},\n",
       " {'label': 'positive', 'score': 0.6343450546264648},\n",
       " {'label': 'negative', 'score': 0.9964470267295837},\n",
       " {'label': 'negative', 'score': 0.9684076905250549},\n",
       " {'label': 'negative', 'score': 0.9898993372917175},\n",
       " {'label': 'positive', 'score': 0.9430466890335083},\n",
       " {'label': 'negative', 'score': 0.990909993648529},\n",
       " {'label': 'neutral', 'score': 0.989190936088562},\n",
       " {'label': 'neutral', 'score': 0.6101106405258179},\n",
       " {'label': 'negative', 'score': 0.6883207559585571},\n",
       " {'label': 'negative', 'score': 0.9961438179016113},\n",
       " {'label': 'negative', 'score': 0.8157957196235657},\n",
       " {'label': 'negative', 'score': 0.9935505390167236},\n",
       " {'label': 'neutral', 'score': 0.7937220931053162},\n",
       " {'label': 'neutral', 'score': 0.6269600987434387},\n",
       " {'label': 'neutral', 'score': 0.5243489146232605},\n",
       " {'label': 'positive', 'score': 0.8058578372001648},\n",
       " {'label': 'negative', 'score': 0.9952091574668884},\n",
       " {'label': 'negative', 'score': 0.7793448567390442},\n",
       " {'label': 'negative', 'score': 0.9962749481201172},\n",
       " {'label': 'negative', 'score': 0.9959549903869629},\n",
       " {'label': 'negative', 'score': 0.9960352778434753},\n",
       " {'label': 'negative', 'score': 0.9936802387237549},\n",
       " {'label': 'negative', 'score': 0.9965952038764954},\n",
       " {'label': 'positive', 'score': 0.6726056337356567},\n",
       " {'label': 'negative', 'score': 0.9959129691123962},\n",
       " {'label': 'negative', 'score': 0.9960547685623169},\n",
       " {'label': 'positive', 'score': 0.9542017579078674},\n",
       " {'label': 'negative', 'score': 0.9953343272209167},\n",
       " {'label': 'negative', 'score': 0.5477505326271057},\n",
       " {'label': 'negative', 'score': 0.9657671451568604},\n",
       " {'label': 'negative', 'score': 0.9797998070716858},\n",
       " {'label': 'neutral', 'score': 0.6709025502204895},\n",
       " {'label': 'negative', 'score': 0.9930242300033569},\n",
       " {'label': 'negative', 'score': 0.9709088802337646},\n",
       " {'label': 'negative', 'score': 0.9964767098426819},\n",
       " {'label': 'neutral', 'score': 0.8079670667648315},\n",
       " {'label': 'positive', 'score': 0.9197229146957397},\n",
       " {'label': 'neutral', 'score': 0.5491634607315063},\n",
       " {'label': 'negative', 'score': 0.9849493503570557},\n",
       " {'label': 'positive', 'score': 0.7608032822608948},\n",
       " {'label': 'negative', 'score': 0.9936951994895935},\n",
       " {'label': 'negative', 'score': 0.9966773986816406},\n",
       " {'label': 'negative', 'score': 0.9886354207992554},\n",
       " {'label': 'negative', 'score': 0.7539309859275818},\n",
       " {'label': 'negative', 'score': 0.9509730935096741},\n",
       " {'label': 'negative', 'score': 0.9964544773101807},\n",
       " {'label': 'negative', 'score': 0.9947629570960999},\n",
       " {'label': 'negative', 'score': 0.9957429766654968},\n",
       " {'label': 'negative', 'score': 0.8832272291183472},\n",
       " {'label': 'neutral', 'score': 0.9707295298576355},\n",
       " {'label': 'negative', 'score': 0.9942798614501953},\n",
       " {'label': 'positive', 'score': 0.7018211483955383},\n",
       " {'label': 'negative', 'score': 0.991238534450531},\n",
       " {'label': 'negative', 'score': 0.9943885207176208},\n",
       " {'label': 'negative', 'score': 0.9934782981872559},\n",
       " {'label': 'negative', 'score': 0.9932669401168823},\n",
       " {'label': 'negative', 'score': 0.9355177283287048},\n",
       " {'label': 'neutral', 'score': 0.9795070290565491},\n",
       " {'label': 'negative', 'score': 0.9947493672370911},\n",
       " {'label': 'negative', 'score': 0.995879054069519},\n",
       " {'label': 'negative', 'score': 0.9965360164642334},\n",
       " {'label': 'neutral', 'score': 0.5530790686607361},\n",
       " {'label': 'negative', 'score': 0.9909857511520386},\n",
       " {'label': 'negative', 'score': 0.9850194454193115},\n",
       " {'label': 'negative', 'score': 0.9689328670501709},\n",
       " {'label': 'negative', 'score': 0.8340995907783508},\n",
       " {'label': 'neutral', 'score': 0.5874194502830505},\n",
       " {'label': 'negative', 'score': 0.9308197498321533},\n",
       " {'label': 'negative', 'score': 0.9957365989685059},\n",
       " {'label': 'negative', 'score': 0.9906593561172485},\n",
       " {'label': 'negative', 'score': 0.9952220320701599},\n",
       " {'label': 'negative', 'score': 0.9522184133529663},\n",
       " {'label': 'negative', 'score': 0.9966817498207092},\n",
       " {'label': 'negative', 'score': 0.5631508827209473},\n",
       " {'label': 'positive', 'score': 0.9297943115234375},\n",
       " {'label': 'negative', 'score': 0.7257141470909119},\n",
       " {'label': 'positive', 'score': 0.9607499837875366},\n",
       " {'label': 'neutral', 'score': 0.9832867383956909},\n",
       " {'label': 'negative', 'score': 0.995469331741333},\n",
       " {'label': 'negative', 'score': 0.9890629649162292},\n",
       " {'label': 'negative', 'score': 0.9916790127754211},\n",
       " {'label': 'neutral', 'score': 0.7314687967300415},\n",
       " {'label': 'negative', 'score': 0.951644241809845},\n",
       " {'label': 'negative', 'score': 0.9729098677635193},\n",
       " {'label': 'negative', 'score': 0.9935358762741089},\n",
       " {'label': 'positive', 'score': 0.8972508311271667},\n",
       " {'label': 'negative', 'score': 0.9587966799736023},\n",
       " {'label': 'negative', 'score': 0.9868612885475159},\n",
       " {'label': 'negative', 'score': 0.996550440788269},\n",
       " {'label': 'negative', 'score': 0.9963579773902893},\n",
       " {'label': 'negative', 'score': 0.9386746883392334},\n",
       " {'label': 'negative', 'score': 0.9897894263267517},\n",
       " {'label': 'negative', 'score': 0.9952964186668396},\n",
       " {'label': 'neutral', 'score': 0.9882688522338867},\n",
       " {'label': 'neutral', 'score': 0.9658469557762146},\n",
       " {'label': 'neutral', 'score': 0.94935142993927},\n",
       " {'label': 'neutral', 'score': 0.9594278931617737},\n",
       " {'label': 'negative', 'score': 0.9957017302513123},\n",
       " {'label': 'negative', 'score': 0.8931642174720764},\n",
       " {'label': 'negative', 'score': 0.9946668148040771},\n",
       " {'label': 'negative', 'score': 0.9729921221733093},\n",
       " {'label': 'negative', 'score': 0.9963338375091553},\n",
       " {'label': 'negative', 'score': 0.9862236380577087},\n",
       " {'label': 'negative', 'score': 0.9967013001441956},\n",
       " {'label': 'negative', 'score': 0.9843658208847046},\n",
       " {'label': 'neutral', 'score': 0.6352139115333557},\n",
       " {'label': 'negative', 'score': 0.9657624959945679},\n",
       " {'label': 'neutral', 'score': 0.9464226961135864},\n",
       " {'label': 'negative', 'score': 0.9900825619697571},\n",
       " {'label': 'neutral', 'score': 0.8784040212631226},\n",
       " {'label': 'negative', 'score': 0.9948076605796814},\n",
       " {'label': 'neutral', 'score': 0.8987530469894409},\n",
       " {'label': 'neutral', 'score': 0.9668092131614685},\n",
       " {'label': 'neutral', 'score': 0.9614186882972717},\n",
       " {'label': 'neutral', 'score': 0.9493111371994019},\n",
       " {'label': 'neutral', 'score': 0.9649766683578491},\n",
       " {'label': 'negative', 'score': 0.9839048981666565},\n",
       " {'label': 'negative', 'score': 0.9966632723808289},\n",
       " {'label': 'negative', 'score': 0.9873208999633789},\n",
       " {'label': 'negative', 'score': 0.9934290051460266},\n",
       " {'label': 'neutral', 'score': 0.7608115673065186},\n",
       " {'label': 'negative', 'score': 0.9959859251976013},\n",
       " {'label': 'positive', 'score': 0.9112440943717957},\n",
       " {'label': 'negative', 'score': 0.9966791868209839},\n",
       " {'label': 'negative', 'score': 0.9831058382987976},\n",
       " {'label': 'positive', 'score': 0.9842821955680847},\n",
       " {'label': 'neutral', 'score': 0.9527748227119446},\n",
       " {'label': 'negative', 'score': 0.9483984708786011},\n",
       " {'label': 'negative', 'score': 0.9959145188331604},\n",
       " {'label': 'negative', 'score': 0.9730249643325806},\n",
       " {'label': 'negative', 'score': 0.995098888874054},\n",
       " {'label': 'negative', 'score': 0.9961024522781372},\n",
       " {'label': 'negative', 'score': 0.962163507938385},\n",
       " {'label': 'negative', 'score': 0.9883049726486206},\n",
       " {'label': 'negative', 'score': 0.9897201657295227},\n",
       " {'label': 'negative', 'score': 0.9946657419204712},\n",
       " {'label': 'neutral', 'score': 0.8763048648834229},\n",
       " {'label': 'neutral', 'score': 0.9725468158721924},\n",
       " {'label': 'neutral', 'score': 0.9523002505302429},\n",
       " {'label': 'negative', 'score': 0.9957903027534485},\n",
       " {'label': 'negative', 'score': 0.9946351647377014},\n",
       " {'label': 'negative', 'score': 0.9965223073959351},\n",
       " {'label': 'negative', 'score': 0.9957202076911926},\n",
       " {'label': 'neutral', 'score': 0.7528128623962402},\n",
       " {'label': 'neutral', 'score': 0.9907745718955994},\n",
       " {'label': 'neutral', 'score': 0.9497218132019043},\n",
       " {'label': 'positive', 'score': 0.9450898170471191},\n",
       " {'label': 'neutral', 'score': 0.7737373113632202},\n",
       " {'label': 'negative', 'score': 0.9828048348426819},\n",
       " {'label': 'negative', 'score': 0.9778318405151367},\n",
       " {'label': 'negative', 'score': 0.9937720894813538},\n",
       " {'label': 'negative', 'score': 0.9943860769271851},\n",
       " {'label': 'neutral', 'score': 0.9456028938293457},\n",
       " {'label': 'negative', 'score': 0.996505618095398},\n",
       " {'label': 'positive', 'score': 0.8503974676132202},\n",
       " {'label': 'negative', 'score': 0.9952589869499207},\n",
       " {'label': 'negative', 'score': 0.7756463289260864},\n",
       " {'label': 'neutral', 'score': 0.6333182454109192},\n",
       " {'label': 'negative', 'score': 0.9960252046585083},\n",
       " {'label': 'negative', 'score': 0.9887552857398987},\n",
       " {'label': 'neutral', 'score': 0.9840569496154785},\n",
       " {'label': 'neutral', 'score': 0.9892938137054443},\n",
       " {'label': 'negative', 'score': 0.9877959489822388},\n",
       " {'label': 'negative', 'score': 0.91709965467453},\n",
       " {'label': 'negative', 'score': 0.8745798468589783},\n",
       " {'label': 'neutral', 'score': 0.6308289170265198},\n",
       " {'label': 'neutral', 'score': 0.5361631512641907},\n",
       " {'label': 'positive', 'score': 0.9786298871040344},\n",
       " {'label': 'negative', 'score': 0.5400356650352478},\n",
       " {'label': 'negative', 'score': 0.9964094758033752},\n",
       " {'label': 'negative', 'score': 0.9953006505966187},\n",
       " {'label': 'negative', 'score': 0.9839635491371155},\n",
       " {'label': 'negative', 'score': 0.957444965839386},\n",
       " {'label': 'positive', 'score': 0.6738061904907227},\n",
       " {'label': 'negative', 'score': 0.9966004490852356},\n",
       " {'label': 'negative', 'score': 0.9962280988693237},\n",
       " {'label': 'negative', 'score': 0.9967945218086243},\n",
       " {'label': 'neutral', 'score': 0.8850811719894409},\n",
       " {'label': 'neutral', 'score': 0.8699959516525269},\n",
       " {'label': 'negative', 'score': 0.9962605834007263},\n",
       " {'label': 'positive', 'score': 0.9789075255393982},\n",
       " {'label': 'negative', 'score': 0.7095606923103333},\n",
       " {'label': 'negative', 'score': 0.9387063980102539},\n",
       " {'label': 'negative', 'score': 0.9910719990730286},\n",
       " {'label': 'negative', 'score': 0.9848469495773315},\n",
       " {'label': 'negative', 'score': 0.9117761850357056},\n",
       " {'label': 'negative', 'score': 0.8412495255470276},\n",
       " {'label': 'neutral', 'score': 0.9617139101028442},\n",
       " {'label': 'positive', 'score': 0.9756180644035339},\n",
       " {'label': 'negative', 'score': 0.5071678757667542},\n",
       " {'label': 'negative', 'score': 0.9954577684402466},\n",
       " {'label': 'negative', 'score': 0.9790202975273132},\n",
       " {'label': 'neutral', 'score': 0.5133686065673828},\n",
       " {'label': 'negative', 'score': 0.9682163596153259},\n",
       " {'label': 'neutral', 'score': 0.973820686340332},\n",
       " {'label': 'negative', 'score': 0.996471643447876},\n",
       " {'label': 'negative', 'score': 0.9908181428909302},\n",
       " {'label': 'positive', 'score': 0.5131939053535461},\n",
       " {'label': 'neutral', 'score': 0.9837685227394104},\n",
       " {'label': 'negative', 'score': 0.9953094124794006},\n",
       " {'label': 'negative', 'score': 0.9936861395835876},\n",
       " {'label': 'negative', 'score': 0.7791413068771362},\n",
       " {'label': 'neutral', 'score': 0.4318985342979431},\n",
       " {'label': 'neutral', 'score': 0.9798226952552795},\n",
       " {'label': 'positive', 'score': 0.9768502712249756},\n",
       " {'label': 'neutral', 'score': 0.773521363735199},\n",
       " {'label': 'negative', 'score': 0.9903191328048706},\n",
       " {'label': 'neutral', 'score': 0.9910206198692322},\n",
       " {'label': 'neutral', 'score': 0.9900712966918945},\n",
       " {'label': 'negative', 'score': 0.9955998659133911},\n",
       " {'label': 'neutral', 'score': 0.9887039065361023},\n",
       " {'label': 'neutral', 'score': 0.890472412109375},\n",
       " {'label': 'negative', 'score': 0.7549502849578857},\n",
       " {'label': 'negative', 'score': 0.9963132739067078},\n",
       " {'label': 'negative', 'score': 0.9793220162391663},\n",
       " {'label': 'neutral', 'score': 0.9667389988899231},\n",
       " {'label': 'positive', 'score': 0.7914965152740479},\n",
       " {'label': 'negative', 'score': 0.6479149460792542},\n",
       " {'label': 'neutral', 'score': 0.783098042011261},\n",
       " {'label': 'negative', 'score': 0.9911672472953796},\n",
       " {'label': 'negative', 'score': 0.984152615070343},\n",
       " {'label': 'negative', 'score': 0.9080510139465332},\n",
       " {'label': 'neutral', 'score': 0.9100536704063416},\n",
       " {'label': 'negative', 'score': 0.9085171818733215},\n",
       " {'label': 'negative', 'score': 0.9775247573852539},\n",
       " {'label': 'negative', 'score': 0.9923602938652039},\n",
       " {'label': 'negative', 'score': 0.9923555850982666},\n",
       " {'label': 'positive', 'score': 0.8678659200668335},\n",
       " {'label': 'negative', 'score': 0.9860619902610779},\n",
       " {'label': 'negative', 'score': 0.9402271509170532},\n",
       " {'label': 'negative', 'score': 0.9965652823448181},\n",
       " {'label': 'negative', 'score': 0.9943569302558899},\n",
       " {'label': 'negative', 'score': 0.9706488847732544},\n",
       " {'label': 'neutral', 'score': 0.712068498134613},\n",
       " {'label': 'neutral', 'score': 0.5963736176490784},\n",
       " {'label': 'positive', 'score': 0.8903927206993103},\n",
       " {'label': 'negative', 'score': 0.9965039491653442},\n",
       " {'label': 'negative', 'score': 0.979955792427063},\n",
       " {'label': 'negative', 'score': 0.9774814248085022},\n",
       " {'label': 'neutral', 'score': 0.7096019983291626},\n",
       " {'label': 'negative', 'score': 0.9658780097961426},\n",
       " {'label': 'neutral', 'score': 0.9800021648406982},\n",
       " {'label': 'negative', 'score': 0.9945723414421082},\n",
       " {'label': 'negative', 'score': 0.9570428729057312},\n",
       " {'label': 'negative', 'score': 0.9963011741638184},\n",
       " {'label': 'negative', 'score': 0.9951114058494568},\n",
       " {'label': 'negative', 'score': 0.9963219165802002},\n",
       " {'label': 'negative', 'score': 0.8600618243217468},\n",
       " {'label': 'negative', 'score': 0.9379504919052124},\n",
       " {'label': 'negative', 'score': 0.9966034889221191},\n",
       " {'label': 'negative', 'score': 0.9582095146179199},\n",
       " {'label': 'negative', 'score': 0.887228786945343},\n",
       " {'label': 'positive', 'score': 0.9798622727394104},\n",
       " {'label': 'negative', 'score': 0.9916598200798035},\n",
       " {'label': 'negative', 'score': 0.9866775274276733},\n",
       " {'label': 'positive', 'score': 0.987658679485321},\n",
       " {'label': 'neutral', 'score': 0.5511773824691772},\n",
       " {'label': 'neutral', 'score': 0.6023533344268799},\n",
       " {'label': 'negative', 'score': 0.9938579201698303},\n",
       " {'label': 'negative', 'score': 0.9409986734390259},\n",
       " {'label': 'positive', 'score': 0.5011622309684753},\n",
       " {'label': 'positive', 'score': 0.98245769739151},\n",
       " {'label': 'negative', 'score': 0.9950045943260193},\n",
       " {'label': 'negative', 'score': 0.97934889793396},\n",
       " {'label': 'negative', 'score': 0.5600224137306213},\n",
       " {'label': 'negative', 'score': 0.8923283815383911},\n",
       " {'label': 'negative', 'score': 0.8896822333335876},\n",
       " {'label': 'positive', 'score': 0.8066006302833557},\n",
       " {'label': 'negative', 'score': 0.9962772727012634},\n",
       " {'label': 'neutral', 'score': 0.8015305399894714},\n",
       " {'label': 'neutral', 'score': 0.9716335535049438},\n",
       " {'label': 'negative', 'score': 0.9816158413887024},\n",
       " {'label': 'negative', 'score': 0.9952899217605591},\n",
       " {'label': 'negative', 'score': 0.9919034838676453},\n",
       " {'label': 'neutral', 'score': 0.8744389414787292},\n",
       " {'label': 'negative', 'score': 0.992616593837738},\n",
       " {'label': 'positive', 'score': 0.9561218619346619},\n",
       " {'label': 'neutral', 'score': 0.9820607900619507},\n",
       " {'label': 'negative', 'score': 0.9936563372612},\n",
       " {'label': 'negative', 'score': 0.9957928657531738},\n",
       " {'label': 'negative', 'score': 0.9960101842880249},\n",
       " {'label': 'negative', 'score': 0.9963265061378479},\n",
       " {'label': 'negative', 'score': 0.9688346982002258},\n",
       " {'label': 'negative', 'score': 0.9961417317390442},\n",
       " {'label': 'neutral', 'score': 0.7512645125389099},\n",
       " {'label': 'neutral', 'score': 0.6324673295021057},\n",
       " {'label': 'negative', 'score': 0.9300410747528076},\n",
       " {'label': 'negative', 'score': 0.9751380085945129},\n",
       " {'label': 'neutral', 'score': 0.897783100605011},\n",
       " {'label': 'neutral', 'score': 0.9882065653800964},\n",
       " {'label': 'negative', 'score': 0.9965372085571289},\n",
       " {'label': 'negative', 'score': 0.878578782081604},\n",
       " {'label': 'negative', 'score': 0.9950041174888611},\n",
       " {'label': 'neutral', 'score': 0.9905909895896912},\n",
       " {'label': 'neutral', 'score': 0.7376399040222168},\n",
       " {'label': 'negative', 'score': 0.9949421286582947},\n",
       " {'label': 'neutral', 'score': 0.9327561259269714},\n",
       " {'label': 'negative', 'score': 0.9460301399230957},\n",
       " {'label': 'positive', 'score': 0.9197914004325867},\n",
       " {'label': 'neutral', 'score': 0.9794004559516907},\n",
       " {'label': 'neutral', 'score': 0.9499300122261047},\n",
       " {'label': 'negative', 'score': 0.9949609041213989},\n",
       " {'label': 'negative', 'score': 0.9664457440376282},\n",
       " {'label': 'negative', 'score': 0.9925383925437927},\n",
       " {'label': 'negative', 'score': 0.996916651725769},\n",
       " {'label': 'neutral', 'score': 0.747352123260498},\n",
       " {'label': 'negative', 'score': 0.9663604497909546},\n",
       " {'label': 'positive', 'score': 0.7971366047859192},\n",
       " {'label': 'neutral', 'score': 0.9058222770690918},\n",
       " {'label': 'negative', 'score': 0.7520188093185425},\n",
       " {'label': 'negative', 'score': 0.9796492457389832},\n",
       " {'label': 'negative', 'score': 0.9922194480895996},\n",
       " {'label': 'negative', 'score': 0.9962651133537292},\n",
       " {'label': 'negative', 'score': 0.7391355037689209},\n",
       " {'label': 'negative', 'score': 0.8011555075645447},\n",
       " {'label': 'negative', 'score': 0.7730438709259033},\n",
       " {'label': 'negative', 'score': 0.9837945103645325},\n",
       " {'label': 'negative', 'score': 0.9653141498565674},\n",
       " {'label': 'positive', 'score': 0.9525884389877319},\n",
       " {'label': 'negative', 'score': 0.9927997589111328},\n",
       " {'label': 'negative', 'score': 0.8083109259605408},\n",
       " {'label': 'negative', 'score': 0.9171290397644043},\n",
       " {'label': 'neutral', 'score': 0.989138662815094},\n",
       " {'label': 'negative', 'score': 0.995682954788208},\n",
       " {'label': 'negative', 'score': 0.9876043796539307},\n",
       " {'label': 'positive', 'score': 0.6174901723861694},\n",
       " {'label': 'negative', 'score': 0.9944851994514465},\n",
       " {'label': 'negative', 'score': 0.9915285110473633},\n",
       " {'label': 'neutral', 'score': 0.8238439559936523},\n",
       " {'label': 'negative', 'score': 0.9950790405273438},\n",
       " {'label': 'neutral', 'score': 0.8426772952079773},\n",
       " {'label': 'negative', 'score': 0.6062660217285156},\n",
       " {'label': 'negative', 'score': 0.7526965141296387},\n",
       " {'label': 'negative', 'score': 0.9934501647949219},\n",
       " {'label': 'negative', 'score': 0.9918155074119568},\n",
       " {'label': 'negative', 'score': 0.9828017354011536},\n",
       " {'label': 'negative', 'score': 0.8012702465057373},\n",
       " {'label': 'neutral', 'score': 0.8525593876838684},\n",
       " {'label': 'negative', 'score': 0.7620970010757446},\n",
       " {'label': 'negative', 'score': 0.9540449380874634},\n",
       " {'label': 'negative', 'score': 0.9553523659706116},\n",
       " {'label': 'positive', 'score': 0.9735912084579468},\n",
       " {'label': 'negative', 'score': 0.5300883054733276},\n",
       " {'label': 'positive', 'score': 0.9189836978912354},\n",
       " {'label': 'positive', 'score': 0.9379723072052002},\n",
       " {'label': 'negative', 'score': 0.9964451193809509},\n",
       " {'label': 'neutral', 'score': 0.9854169487953186},\n",
       " {'label': 'neutral', 'score': 0.8306235671043396},\n",
       " {'label': 'negative', 'score': 0.9252194166183472},\n",
       " {'label': 'positive', 'score': 0.745890736579895},\n",
       " {'label': 'neutral', 'score': 0.9453765749931335},\n",
       " {'label': 'negative', 'score': 0.9909927845001221},\n",
       " {'label': 'negative', 'score': 0.8752422332763672},\n",
       " {'label': 'negative', 'score': 0.9130475521087646},\n",
       " {'label': 'negative', 'score': 0.9897869825363159},\n",
       " {'label': 'negative', 'score': 0.5080397129058838},\n",
       " {'label': 'neutral', 'score': 0.7782634496688843},\n",
       " {'label': 'negative', 'score': 0.9959946870803833},\n",
       " {'label': 'negative', 'score': 0.9966752529144287},\n",
       " {'label': 'positive', 'score': 0.9380261301994324},\n",
       " {'label': 'negative', 'score': 0.9752143025398254},\n",
       " {'label': 'negative', 'score': 0.9275755882263184},\n",
       " {'label': 'neutral', 'score': 0.9771497845649719},\n",
       " {'label': 'negative', 'score': 0.9941719174385071},\n",
       " {'label': 'positive', 'score': 0.9642496109008789},\n",
       " {'label': 'negative', 'score': 0.9956250786781311},\n",
       " {'label': 'positive', 'score': 0.4910629391670227},\n",
       " {'label': 'negative', 'score': 0.9967018961906433},\n",
       " {'label': 'neutral', 'score': 0.9518275856971741},\n",
       " {'label': 'negative', 'score': 0.964800238609314},\n",
       " {'label': 'positive', 'score': 0.9830789566040039},\n",
       " {'label': 'neutral', 'score': 0.9788197875022888},\n",
       " {'label': 'negative', 'score': 0.9967356324195862},\n",
       " {'label': 'negative', 'score': 0.9878180027008057},\n",
       " {'label': 'negative', 'score': 0.9826040863990784},\n",
       " {'label': 'negative', 'score': 0.979458749294281},\n",
       " {'label': 'positive', 'score': 0.9884541630744934},\n",
       " {'label': 'negative', 'score': 0.9359543919563293},\n",
       " {'label': 'negative', 'score': 0.9966841340065002},\n",
       " {'label': 'positive', 'score': 0.867176353931427},\n",
       " {'label': 'positive', 'score': 0.9288109540939331},\n",
       " {'label': 'negative', 'score': 0.8730267286300659},\n",
       " {'label': 'negative', 'score': 0.9966174960136414},\n",
       " {'label': 'negative', 'score': 0.9963357448577881},\n",
       " {'label': 'negative', 'score': 0.9886822700500488},\n",
       " {'label': 'negative', 'score': 0.9789136648178101},\n",
       " {'label': 'positive', 'score': 0.9464336633682251},\n",
       " {'label': 'negative', 'score': 0.8882344961166382},\n",
       " {'label': 'negative', 'score': 0.9948543906211853},\n",
       " {'label': 'positive', 'score': 0.8961187601089478},\n",
       " {'label': 'negative', 'score': 0.9962467551231384},\n",
       " {'label': 'neutral', 'score': 0.9383037090301514},\n",
       " {'label': 'positive', 'score': 0.5391430258750916},\n",
       " {'label': 'positive', 'score': 0.8163424730300903},\n",
       " {'label': 'negative', 'score': 0.9882442951202393},\n",
       " {'label': 'negative', 'score': 0.9797923564910889},\n",
       " {'label': 'negative', 'score': 0.9935890436172485},\n",
       " {'label': 'negative', 'score': 0.9963678121566772},\n",
       " {'label': 'positive', 'score': 0.6955347657203674},\n",
       " {'label': 'negative', 'score': 0.9891861081123352},\n",
       " {'label': 'neutral', 'score': 0.9887626767158508},\n",
       " {'label': 'negative', 'score': 0.9959123730659485},\n",
       " {'label': 'negative', 'score': 0.9872632622718811},\n",
       " {'label': 'neutral', 'score': 0.7727372050285339},\n",
       " {'label': 'negative', 'score': 0.9254018664360046},\n",
       " {'label': 'negative', 'score': 0.8773621916770935},\n",
       " {'label': 'negative', 'score': 0.6217476725578308},\n",
       " {'label': 'positive', 'score': 0.5819129347801208},\n",
       " {'label': 'neutral', 'score': 0.9689560532569885},\n",
       " {'label': 'neutral', 'score': 0.895553469657898},\n",
       " {'label': 'neutral', 'score': 0.9797434210777283},\n",
       " {'label': 'negative', 'score': 0.9923303723335266},\n",
       " {'label': 'neutral', 'score': 0.9900063872337341},\n",
       " {'label': 'neutral', 'score': 0.8856452703475952},\n",
       " {'label': 'negative', 'score': 0.9361528158187866},\n",
       " {'label': 'positive', 'score': 0.9676287770271301},\n",
       " {'label': 'negative', 'score': 0.990013837814331},\n",
       " {'label': 'negative', 'score': 0.9378800392150879},\n",
       " {'label': 'neutral', 'score': 0.6320180892944336},\n",
       " {'label': 'negative', 'score': 0.9596223831176758},\n",
       " {'label': 'negative', 'score': 0.9924678206443787},\n",
       " {'label': 'negative', 'score': 0.9467745423316956},\n",
       " {'label': 'neutral', 'score': 0.8884117603302002},\n",
       " {'label': 'negative', 'score': 0.9752010107040405},\n",
       " {'label': 'positive', 'score': 0.7257565855979919},\n",
       " {'label': 'negative', 'score': 0.633465051651001},\n",
       " {'label': 'neutral', 'score': 0.9854385852813721},\n",
       " {'label': 'neutral', 'score': 0.5408940315246582},\n",
       " {'label': 'negative', 'score': 0.846997082233429},\n",
       " {'label': 'negative', 'score': 0.9959325194358826},\n",
       " {'label': 'negative', 'score': 0.5296428799629211},\n",
       " {'label': 'negative', 'score': 0.9933298230171204},\n",
       " {'label': 'negative', 'score': 0.996222972869873},\n",
       " {'label': 'positive', 'score': 0.8661494255065918},\n",
       " {'label': 'negative', 'score': 0.992077112197876},\n",
       " {'label': 'negative', 'score': 0.9717143774032593},\n",
       " {'label': 'negative', 'score': 0.9947516322135925},\n",
       " {'label': 'neutral', 'score': 0.4859669506549835},\n",
       " {'label': 'negative', 'score': 0.9734330773353577},\n",
       " {'label': 'negative', 'score': 0.9968611001968384},\n",
       " {'label': 'neutral', 'score': 0.9438587427139282},\n",
       " {'label': 'negative', 'score': 0.9958695769309998},\n",
       " {'label': 'negative', 'score': 0.9960440397262573},\n",
       " {'label': 'neutral', 'score': 0.7439918518066406},\n",
       " {'label': 'neutral', 'score': 0.9704548716545105},\n",
       " {'label': 'negative', 'score': 0.9764057993888855},\n",
       " {'label': 'negative', 'score': 0.9913968443870544},\n",
       " {'label': 'neutral', 'score': 0.8071808218955994},\n",
       " {'label': 'negative', 'score': 0.9936182498931885},\n",
       " {'label': 'positive', 'score': 0.9852551221847534},\n",
       " {'label': 'negative', 'score': 0.9716749787330627},\n",
       " {'label': 'neutral', 'score': 0.5315268039703369},\n",
       " {'label': 'negative', 'score': 0.9937720894813538},\n",
       " {'label': 'negative', 'score': 0.9929319620132446},\n",
       " {'label': 'negative', 'score': 0.8512336611747742},\n",
       " {'label': 'negative', 'score': 0.9956692457199097},\n",
       " {'label': 'negative', 'score': 0.7438806295394897},\n",
       " {'label': 'neutral', 'score': 0.9600902199745178},\n",
       " {'label': 'positive', 'score': 0.9828295111656189},\n",
       " {'label': 'negative', 'score': 0.9955534338951111},\n",
       " {'label': 'positive', 'score': 0.9793842434883118},\n",
       " {'label': 'negative', 'score': 0.5786967277526855},\n",
       " {'label': 'neutral', 'score': 0.9708576202392578},\n",
       " {'label': 'negative', 'score': 0.7791239619255066},\n",
       " {'label': 'negative', 'score': 0.9964500665664673},\n",
       " {'label': 'negative', 'score': 0.9307864904403687},\n",
       " {'label': 'neutral', 'score': 0.9755252599716187},\n",
       " {'label': 'negative', 'score': 0.9900315999984741},\n",
       " {'label': 'negative', 'score': 0.9274702072143555},\n",
       " {'label': 'negative', 'score': 0.952160656452179},\n",
       " {'label': 'positive', 'score': 0.9630114436149597},\n",
       " {'label': 'neutral', 'score': 0.9615370631217957},\n",
       " {'label': 'neutral', 'score': 0.7755509614944458},\n",
       " {'label': 'negative', 'score': 0.9895554780960083},\n",
       " {'label': 'negative', 'score': 0.9956568479537964},\n",
       " {'label': 'neutral', 'score': 0.849197506904602},\n",
       " {'label': 'negative', 'score': 0.9964715242385864},\n",
       " {'label': 'neutral', 'score': 0.9802654385566711},\n",
       " {'label': 'neutral', 'score': 0.7306555509567261},\n",
       " {'label': 'neutral', 'score': 0.9685590863227844},\n",
       " {'label': 'negative', 'score': 0.9952300786972046},\n",
       " {'label': 'negative', 'score': 0.9964236617088318},\n",
       " {'label': 'negative', 'score': 0.9813849925994873},\n",
       " {'label': 'negative', 'score': 0.6388373970985413},\n",
       " {'label': 'neutral', 'score': 0.973926842212677},\n",
       " {'label': 'negative', 'score': 0.9962432384490967},\n",
       " {'label': 'negative', 'score': 0.984066367149353},\n",
       " {'label': 'neutral', 'score': 0.9579966068267822},\n",
       " {'label': 'neutral', 'score': 0.9774291515350342},\n",
       " {'label': 'negative', 'score': 0.9888546466827393},\n",
       " {'label': 'negative', 'score': 0.952035665512085},\n",
       " {'label': 'positive', 'score': 0.7480247616767883},\n",
       " {'label': 'positive', 'score': 0.6395198702812195},\n",
       " {'label': 'negative', 'score': 0.9829825758934021},\n",
       " {'label': 'negative', 'score': 0.9962583780288696},\n",
       " {'label': 'negative', 'score': 0.9283306002616882},\n",
       " {'label': 'negative', 'score': 0.9940996170043945},\n",
       " {'label': 'positive', 'score': 0.9669403433799744},\n",
       " {'label': 'negative', 'score': 0.9494010806083679},\n",
       " {'label': 'negative', 'score': 0.9579054713249207},\n",
       " {'label': 'negative', 'score': 0.9943856000900269},\n",
       " {'label': 'negative', 'score': 0.975085973739624},\n",
       " {'label': 'negative', 'score': 0.9953125715255737},\n",
       " {'label': 'negative', 'score': 0.9879735708236694},\n",
       " {'label': 'negative', 'score': 0.9790508151054382},\n",
       " {'label': 'neutral', 'score': 0.9897494912147522},\n",
       " {'label': 'negative', 'score': 0.9918968081474304},\n",
       " {'label': 'negative', 'score': 0.9913517236709595},\n",
       " {'label': 'negative', 'score': 0.9545134902000427},\n",
       " {'label': 'negative', 'score': 0.9945870637893677},\n",
       " {'label': 'neutral', 'score': 0.9467593431472778},\n",
       " {'label': 'negative', 'score': 0.996545135974884},\n",
       " {'label': 'negative', 'score': 0.991663932800293},\n",
       " {'label': 'negative', 'score': 0.9963852167129517},\n",
       " {'label': 'neutral', 'score': 0.9431926012039185},\n",
       " {'label': 'neutral', 'score': 0.9865329265594482},\n",
       " {'label': 'neutral', 'score': 0.9811923503875732},\n",
       " {'label': 'negative', 'score': 0.9940055012702942},\n",
       " {'label': 'negative', 'score': 0.992617666721344},\n",
       " {'label': 'positive', 'score': 0.9775002598762512},\n",
       " {'label': 'negative', 'score': 0.967398464679718},\n",
       " {'label': 'negative', 'score': 0.9967789053916931},\n",
       " {'label': 'negative', 'score': 0.7510553598403931},\n",
       " {'label': 'neutral', 'score': 0.990113377571106},\n",
       " {'label': 'negative', 'score': 0.9924731254577637},\n",
       " {'label': 'negative', 'score': 0.9949445128440857},\n",
       " {'label': 'neutral', 'score': 0.834428071975708},\n",
       " {'label': 'negative', 'score': 0.6567004323005676},\n",
       " {'label': 'neutral', 'score': 0.9657312035560608},\n",
       " {'label': 'negative', 'score': 0.9367775917053223},\n",
       " {'label': 'negative', 'score': 0.9473874568939209},\n",
       " {'label': 'negative', 'score': 0.9700024127960205},\n",
       " {'label': 'negative', 'score': 0.8401798605918884},\n",
       " {'label': 'negative', 'score': 0.9949480295181274},\n",
       " {'label': 'neutral', 'score': 0.9541375041007996},\n",
       " {'label': 'negative', 'score': 0.9961038827896118},\n",
       " {'label': 'negative', 'score': 0.8906748294830322},\n",
       " {'label': 'positive', 'score': 0.9720692038536072},\n",
       " {'label': 'negative', 'score': 0.991520345211029},\n",
       " {'label': 'positive', 'score': 0.9849640727043152},\n",
       " {'label': 'neutral', 'score': 0.9548630118370056},\n",
       " {'label': 'positive', 'score': 0.9605234861373901},\n",
       " {'label': 'neutral', 'score': 0.9159550070762634},\n",
       " {'label': 'negative', 'score': 0.9942039847373962},\n",
       " {'label': 'negative', 'score': 0.8480551838874817},\n",
       " {'label': 'neutral', 'score': 0.6812471747398376},\n",
       " {'label': 'positive', 'score': 0.6506021618843079},\n",
       " {'label': 'neutral', 'score': 0.45496103167533875},\n",
       " {'label': 'negative', 'score': 0.9944323897361755},\n",
       " {'label': 'negative', 'score': 0.9692529439926147},\n",
       " {'label': 'positive', 'score': 0.44677233695983887},\n",
       " {'label': 'neutral', 'score': 0.9614582657814026},\n",
       " {'label': 'negative', 'score': 0.9950858950614929},\n",
       " {'label': 'neutral', 'score': 0.9902363419532776},\n",
       " {'label': 'neutral', 'score': 0.6733862161636353},\n",
       " {'label': 'positive', 'score': 0.8769110441207886},\n",
       " {'label': 'negative', 'score': 0.9910131096839905},\n",
       " {'label': 'negative', 'score': 0.9962863922119141},\n",
       " {'label': 'negative', 'score': 0.9899711012840271},\n",
       " {'label': 'negative', 'score': 0.9758219122886658},\n",
       " {'label': 'positive', 'score': 0.7884594202041626},\n",
       " {'label': 'negative', 'score': 0.9949370622634888},\n",
       " {'label': 'positive', 'score': 0.7959255576133728},\n",
       " {'label': 'negative', 'score': 0.9960212111473083},\n",
       " {'label': 'negative', 'score': 0.9965343475341797},\n",
       " {'label': 'positive', 'score': 0.977462887763977},\n",
       " {'label': 'negative', 'score': 0.8543345332145691},\n",
       " {'label': 'neutral', 'score': 0.983357846736908},\n",
       " {'label': 'negative', 'score': 0.9824321866035461},\n",
       " {'label': 'neutral', 'score': 0.6727688908576965},\n",
       " {'label': 'neutral', 'score': 0.9794079065322876},\n",
       " {'label': 'neutral', 'score': 0.9497136473655701},\n",
       " {'label': 'negative', 'score': 0.9949117302894592},\n",
       " {'label': 'neutral', 'score': 0.508953332901001},\n",
       " {'label': 'neutral', 'score': 0.8801195621490479},\n",
       " {'label': 'negative', 'score': 0.9930028319358826},\n",
       " {'label': 'negative', 'score': 0.9944636225700378},\n",
       " {'label': 'positive', 'score': 0.49572277069091797},\n",
       " {'label': 'negative', 'score': 0.9818710088729858},\n",
       " {'label': 'neutral', 'score': 0.6987208724021912},\n",
       " {'label': 'negative', 'score': 0.9758279323577881},\n",
       " {'label': 'positive', 'score': 0.9580894708633423},\n",
       " {'label': 'negative', 'score': 0.9906626343727112},\n",
       " {'label': 'negative', 'score': 0.9965303540229797},\n",
       " {'label': 'negative', 'score': 0.9964426159858704},\n",
       " {'label': 'negative', 'score': 0.8960678577423096},\n",
       " {'label': 'negative', 'score': 0.9868952631950378},\n",
       " {'label': 'negative', 'score': 0.9952270984649658},\n",
       " {'label': 'negative', 'score': 0.996951699256897},\n",
       " {'label': 'negative', 'score': 0.9959654808044434},\n",
       " {'label': 'negative', 'score': 0.99539715051651},\n",
       " {'label': 'negative', 'score': 0.9966152310371399},\n",
       " {'label': 'neutral', 'score': 0.9340681433677673},\n",
       " {'label': 'negative', 'score': 0.9882441759109497},\n",
       " {'label': 'negative', 'score': 0.9842290878295898},\n",
       " {'label': 'negative', 'score': 0.8993882536888123},\n",
       " {'label': 'neutral', 'score': 0.8430061340332031},\n",
       " {'label': 'positive', 'score': 0.5608056783676147},\n",
       " {'label': 'negative', 'score': 0.9659083485603333},\n",
       " {'label': 'positive', 'score': 0.5969234108924866},\n",
       " {'label': 'negative', 'score': 0.9827693700790405},\n",
       " {'label': 'negative', 'score': 0.9939905405044556},\n",
       " {'label': 'neutral', 'score': 0.9155198335647583},\n",
       " {'label': 'negative', 'score': 0.988318681716919},\n",
       " {'label': 'neutral', 'score': 0.9850679039955139},\n",
       " {'label': 'positive', 'score': 0.9811181426048279},\n",
       " {'label': 'neutral', 'score': 0.7174738645553589},\n",
       " {'label': 'positive', 'score': 0.5683904886245728},\n",
       " {'label': 'negative', 'score': 0.6554126143455505},\n",
       " {'label': 'positive', 'score': 0.5068817734718323},\n",
       " {'label': 'negative', 'score': 0.9958621263504028},\n",
       " {'label': 'negative', 'score': 0.9455018639564514},\n",
       " {'label': 'negative', 'score': 0.9944527745246887},\n",
       " {'label': 'positive', 'score': 0.8612130880355835},\n",
       " {'label': 'negative', 'score': 0.9941113591194153},\n",
       " {'label': 'neutral', 'score': 0.6784949898719788},\n",
       " {'label': 'negative', 'score': 0.996123731136322},\n",
       " {'label': 'negative', 'score': 0.9685847163200378},\n",
       " {'label': 'negative', 'score': 0.9957626461982727},\n",
       " {'label': 'negative', 'score': 0.9957451224327087},\n",
       " {'label': 'positive', 'score': 0.9564551711082458},\n",
       " {'label': 'negative', 'score': 0.9944796562194824},\n",
       " {'label': 'negative', 'score': 0.6400796175003052},\n",
       " {'label': 'neutral', 'score': 0.9730398654937744},\n",
       " {'label': 'negative', 'score': 0.9947781562805176},\n",
       " {'label': 'negative', 'score': 0.9965397119522095},\n",
       " {'label': 'negative', 'score': 0.9951737523078918},\n",
       " {'label': 'negative', 'score': 0.9956440925598145},\n",
       " {'label': 'negative', 'score': 0.9947353005409241},\n",
       " {'label': 'negative', 'score': 0.994606077671051},\n",
       " {'label': 'positive', 'score': 0.9810158014297485},\n",
       " {'label': 'positive', 'score': 0.9019762277603149},\n",
       " {'label': 'negative', 'score': 0.9830231070518494},\n",
       " {'label': 'negative', 'score': 0.9265571236610413},\n",
       " {'label': 'negative', 'score': 0.9907686114311218},\n",
       " {'label': 'negative', 'score': 0.9943147301673889},\n",
       " {'label': 'negative', 'score': 0.993891716003418},\n",
       " {'label': 'negative', 'score': 0.9961580634117126},\n",
       " {'label': 'positive', 'score': 0.9650850296020508},\n",
       " {'label': 'negative', 'score': 0.9625230431556702},\n",
       " {'label': 'negative', 'score': 0.9848551154136658},\n",
       " {'label': 'positive', 'score': 0.9839021563529968},\n",
       " {'label': 'negative', 'score': 0.9262428283691406},\n",
       " {'label': 'negative', 'score': 0.9655244946479797},\n",
       " {'label': 'negative', 'score': 0.9965013265609741},\n",
       " {'label': 'negative', 'score': 0.7550654411315918},\n",
       " {'label': 'positive', 'score': 0.9104083180427551},\n",
       " {'label': 'negative', 'score': 0.9613390564918518},\n",
       " {'label': 'neutral', 'score': 0.9550244212150574},\n",
       " {'label': 'negative', 'score': 0.9862784743309021},\n",
       " {'label': 'negative', 'score': 0.9938499927520752},\n",
       " {'label': 'positive', 'score': 0.9834229946136475},\n",
       " {'label': 'positive', 'score': 0.8807488679885864},\n",
       " {'label': 'negative', 'score': 0.9650760293006897},\n",
       " {'label': 'negative', 'score': 0.9452012181282043},\n",
       " {'label': 'negative', 'score': 0.9940363168716431},\n",
       " {'label': 'neutral', 'score': 0.9820563197135925},\n",
       " {'label': 'positive', 'score': 0.9211039543151855},\n",
       " {'label': 'neutral', 'score': 0.9632910490036011},\n",
       " {'label': 'negative', 'score': 0.9948543906211853},\n",
       " {'label': 'neutral', 'score': 0.9763807058334351},\n",
       " {'label': 'neutral', 'score': 0.8757818341255188},\n",
       " {'label': 'neutral', 'score': 0.9554524421691895},\n",
       " {'label': 'negative', 'score': 0.7186607122421265},\n",
       " {'label': 'negative', 'score': 0.9846828579902649},\n",
       " {'label': 'negative', 'score': 0.9896266460418701},\n",
       " {'label': 'negative', 'score': 0.9959893822669983},\n",
       " {'label': 'negative', 'score': 0.985869288444519},\n",
       " {'label': 'negative', 'score': 0.9892818927764893},\n",
       " {'label': 'neutral', 'score': 0.7250376343727112},\n",
       " {'label': 'negative', 'score': 0.9879921674728394},\n",
       " {'label': 'negative', 'score': 0.9920111298561096},\n",
       " {'label': 'neutral', 'score': 0.8132309913635254},\n",
       " {'label': 'negative', 'score': 0.9859126210212708},\n",
       " {'label': 'negative', 'score': 0.9949394464492798},\n",
       " {'label': 'positive', 'score': 0.8762391209602356},\n",
       " {'label': 'negative', 'score': 0.92591792345047},\n",
       " {'label': 'negative', 'score': 0.8867525458335876},\n",
       " {'label': 'neutral', 'score': 0.9840881824493408},\n",
       " {'label': 'positive', 'score': 0.6581680178642273},\n",
       " {'label': 'negative', 'score': 0.9947211742401123},\n",
       " {'label': 'positive', 'score': 0.709221363067627},\n",
       " {'label': 'negative', 'score': 0.9945210218429565},\n",
       " {'label': 'negative', 'score': 0.9945565462112427},\n",
       " {'label': 'negative', 'score': 0.9955982565879822},\n",
       " {'label': 'negative', 'score': 0.9939914345741272},\n",
       " {'label': 'negative', 'score': 0.9945852160453796},\n",
       " {'label': 'neutral', 'score': 0.9913058876991272},\n",
       " {'label': 'positive', 'score': 0.96792072057724},\n",
       " {'label': 'positive', 'score': 0.8554559350013733},\n",
       " {'label': 'negative', 'score': 0.9945816397666931},\n",
       " {'label': 'negative', 'score': 0.9944551587104797},\n",
       " {'label': 'positive', 'score': 0.5003352761268616},\n",
       " {'label': 'neutral', 'score': 0.9819967150688171},\n",
       " {'label': 'negative', 'score': 0.9356077909469604},\n",
       " {'label': 'neutral', 'score': 0.9705381989479065},\n",
       " {'label': 'positive', 'score': 0.915837287902832},\n",
       " {'label': 'neutral', 'score': 0.9854092001914978},\n",
       " {'label': 'negative', 'score': 0.9943125247955322},\n",
       " {'label': 'negative', 'score': 0.98117595911026},\n",
       " {'label': 'negative', 'score': 0.990448534488678},\n",
       " {'label': 'negative', 'score': 0.995087206363678},\n",
       " {'label': 'neutral', 'score': 0.8296334743499756},\n",
       " {'label': 'negative', 'score': 0.9929521679878235},\n",
       " {'label': 'neutral', 'score': 0.9146859645843506},\n",
       " {'label': 'positive', 'score': 0.5333346128463745},\n",
       " {'label': 'positive', 'score': 0.7611825466156006},\n",
       " {'label': 'negative', 'score': 0.9962205290794373},\n",
       " {'label': 'negative', 'score': 0.9957208037376404},\n",
       " {'label': 'neutral', 'score': 0.8498365879058838},\n",
       " {'label': 'neutral', 'score': 0.5460774302482605},\n",
       " {'label': 'neutral', 'score': 0.9871445298194885},\n",
       " {'label': 'negative', 'score': 0.9957453608512878},\n",
       " {'label': 'negative', 'score': 0.8694209456443787},\n",
       " {'label': 'negative', 'score': 0.9940910935401917},\n",
       " {'label': 'negative', 'score': 0.9935691356658936},\n",
       " {'label': 'negative', 'score': 0.9965303540229797},\n",
       " {'label': 'neutral', 'score': 0.9057018756866455},\n",
       " {'label': 'negative', 'score': 0.9931786060333252},\n",
       " {'label': 'positive', 'score': 0.8224276900291443},\n",
       " {'label': 'positive', 'score': 0.9507167935371399},\n",
       " {'label': 'negative', 'score': 0.9866970181465149},\n",
       " {'label': 'negative', 'score': 0.9927547574043274},\n",
       " {'label': 'negative', 'score': 0.9628143906593323},\n",
       " {'label': 'negative', 'score': 0.9948534369468689},\n",
       " {'label': 'neutral', 'score': 0.9700770974159241},\n",
       " {'label': 'positive', 'score': 0.9711629152297974},\n",
       " {'label': 'neutral', 'score': 0.9591180682182312},\n",
       " {'label': 'positive', 'score': 0.9351587891578674},\n",
       " {'label': 'negative', 'score': 0.9543015956878662},\n",
       " {'label': 'negative', 'score': 0.9965085387229919},\n",
       " {'label': 'neutral', 'score': 0.6445091962814331},\n",
       " {'label': 'negative', 'score': 0.9404497742652893},\n",
       " {'label': 'negative', 'score': 0.9949053525924683},\n",
       " {'label': 'positive', 'score': 0.9730468988418579},\n",
       " {'label': 'negative', 'score': 0.993409276008606},\n",
       " {'label': 'negative', 'score': 0.9947524070739746},\n",
       " {'label': 'negative', 'score': 0.8790576457977295},\n",
       " {'label': 'positive', 'score': 0.8649616241455078},\n",
       " {'label': 'negative', 'score': 0.9940193891525269},\n",
       " {'label': 'negative', 'score': 0.9949052333831787},\n",
       " {'label': 'neutral', 'score': 0.9747275710105896},\n",
       " {'label': 'positive', 'score': 0.9314771294593811},\n",
       " {'label': 'negative', 'score': 0.9957387447357178},\n",
       " {'label': 'negative', 'score': 0.8883546590805054},\n",
       " {'label': 'negative', 'score': 0.7885496020317078},\n",
       " {'label': 'neutral', 'score': 0.9089266657829285},\n",
       " {'label': 'negative', 'score': 0.9739529490470886},\n",
       " {'label': 'negative', 'score': 0.8291736245155334},\n",
       " {'label': 'negative', 'score': 0.9719265699386597},\n",
       " {'label': 'negative', 'score': 0.9949148893356323},\n",
       " {'label': 'neutral', 'score': 0.8188365697860718},\n",
       " {'label': 'positive', 'score': 0.9132623672485352},\n",
       " {'label': 'neutral', 'score': 0.990062415599823},\n",
       " {'label': 'negative', 'score': 0.9936082363128662},\n",
       " {'label': 'negative', 'score': 0.9962931275367737},\n",
       " {'label': 'neutral', 'score': 0.7490648627281189},\n",
       " {'label': 'negative', 'score': 0.9949725866317749},\n",
       " {'label': 'negative', 'score': 0.9941316246986389},\n",
       " {'label': 'negative', 'score': 0.9939518570899963},\n",
       " {'label': 'positive', 'score': 0.47450193762779236},\n",
       " {'label': 'neutral', 'score': 0.9285802245140076},\n",
       " {'label': 'neutral', 'score': 0.9625450372695923},\n",
       " {'label': 'negative', 'score': 0.9916752576828003},\n",
       " {'label': 'neutral', 'score': 0.9590836763381958},\n",
       " {'label': 'neutral', 'score': 0.619834303855896},\n",
       " {'label': 'negative', 'score': 0.9826616644859314},\n",
       " {'label': 'negative', 'score': 0.9948561191558838},\n",
       " {'label': 'negative', 'score': 0.9963590502738953},\n",
       " {'label': 'negative', 'score': 0.9963988065719604},\n",
       " {'label': 'neutral', 'score': 0.858789324760437},\n",
       " {'label': 'neutral', 'score': 0.9259724020957947},\n",
       " {'label': 'negative', 'score': 0.9957343935966492},\n",
       " {'label': 'negative', 'score': 0.9904905557632446},\n",
       " {'label': 'negative', 'score': 0.9703018665313721},\n",
       " {'label': 'neutral', 'score': 0.9418502449989319},\n",
       " {'label': 'negative', 'score': 0.9864779710769653},\n",
       " {'label': 'neutral', 'score': 0.9652641415596008},\n",
       " {'label': 'negative', 'score': 0.995703399181366},\n",
       " {'label': 'negative', 'score': 0.6817110180854797},\n",
       " {'label': 'negative', 'score': 0.993960976600647},\n",
       " {'label': 'negative', 'score': 0.9876065850257874},\n",
       " {'label': 'negative', 'score': 0.9011417031288147},\n",
       " {'label': 'positive', 'score': 0.6403879523277283},\n",
       " {'label': 'negative', 'score': 0.8649729490280151},\n",
       " {'label': 'negative', 'score': 0.9292181730270386},\n",
       " {'label': 'positive', 'score': 0.9697367548942566},\n",
       " {'label': 'neutral', 'score': 0.9832301735877991},\n",
       " {'label': 'negative', 'score': 0.9946251511573792},\n",
       " {'label': 'negative', 'score': 0.9958134293556213},\n",
       " {'label': 'negative', 'score': 0.9154430031776428},\n",
       " {'label': 'negative', 'score': 0.9964478015899658},\n",
       " {'label': 'negative', 'score': 0.9927944540977478},\n",
       " {'label': 'negative', 'score': 0.9954068660736084},\n",
       " {'label': 'negative', 'score': 0.9856626391410828},\n",
       " {'label': 'negative', 'score': 0.9959726929664612},\n",
       " {'label': 'negative', 'score': 0.9957665205001831},\n",
       " {'label': 'neutral', 'score': 0.8260796070098877},\n",
       " {'label': 'negative', 'score': 0.7986057996749878},\n",
       " {'label': 'neutral', 'score': 0.9770451784133911},\n",
       " {'label': 'negative', 'score': 0.9894046783447266},\n",
       " {'label': 'neutral', 'score': 0.7747073173522949},\n",
       " {'label': 'negative', 'score': 0.9955910444259644},\n",
       " {'label': 'negative', 'score': 0.9638294577598572},\n",
       " {'label': 'negative', 'score': 0.9928727149963379},\n",
       " {'label': 'negative', 'score': 0.9923911690711975},\n",
       " {'label': 'negative', 'score': 0.6109614968299866},\n",
       " {'label': 'negative', 'score': 0.9772524237632751},\n",
       " {'label': 'negative', 'score': 0.9741880893707275},\n",
       " {'label': 'neutral', 'score': 0.7500539422035217},\n",
       " {'label': 'neutral', 'score': 0.9031693339347839},\n",
       " {'label': 'neutral', 'score': 0.9814949631690979},\n",
       " {'label': 'positive', 'score': 0.9732725620269775},\n",
       " {'label': 'negative', 'score': 0.9675997495651245},\n",
       " {'label': 'positive', 'score': 0.9670357704162598},\n",
       " {'label': 'positive', 'score': 0.9119572043418884},\n",
       " {'label': 'neutral', 'score': 0.7245664000511169},\n",
       " {'label': 'negative', 'score': 0.5457780957221985},\n",
       " {'label': 'negative', 'score': 0.9777684807777405},\n",
       " {'label': 'negative', 'score': 0.9962408542633057},\n",
       " {'label': 'negative', 'score': 0.9935991764068604},\n",
       " {'label': 'negative', 'score': 0.9954657554626465},\n",
       " {'label': 'positive', 'score': 0.8023914098739624},\n",
       " {'label': 'positive', 'score': 0.9796261191368103},\n",
       " {'label': 'negative', 'score': 0.9928529858589172},\n",
       " {'label': 'negative', 'score': 0.9466643929481506},\n",
       " {'label': 'negative', 'score': 0.9914363026618958},\n",
       " {'label': 'negative', 'score': 0.9943181872367859},\n",
       " {'label': 'neutral', 'score': 0.9248942732810974},\n",
       " {'label': 'positive', 'score': 0.9606836438179016},\n",
       " {'label': 'negative', 'score': 0.7736452221870422},\n",
       " {'label': 'negative', 'score': 0.9351341724395752},\n",
       " {'label': 'negative', 'score': 0.9396536946296692},\n",
       " {'label': 'negative', 'score': 0.9962460398674011},\n",
       " {'label': 'negative', 'score': 0.7460352778434753},\n",
       " {'label': 'neutral', 'score': 0.5822641849517822},\n",
       " {'label': 'negative', 'score': 0.9667819142341614},\n",
       " {'label': 'negative', 'score': 0.9834176898002625},\n",
       " {'label': 'positive', 'score': 0.9803357124328613},\n",
       " {'label': 'positive', 'score': 0.6237500309944153},\n",
       " {'label': 'negative', 'score': 0.9890190958976746},\n",
       " {'label': 'neutral', 'score': 0.8055646419525146},\n",
       " {'label': 'negative', 'score': 0.863325834274292},\n",
       " {'label': 'negative', 'score': 0.977281928062439},\n",
       " {'label': 'negative', 'score': 0.9730747938156128},\n",
       " {'label': 'negative', 'score': 0.7278523445129395},\n",
       " {'label': 'negative', 'score': 0.991733193397522},\n",
       " {'label': 'negative', 'score': 0.7869662642478943},\n",
       " {'label': 'negative', 'score': 0.9875873923301697},\n",
       " {'label': 'negative', 'score': 0.9285869002342224},\n",
       " {'label': 'negative', 'score': 0.9955816864967346},\n",
       " {'label': 'positive', 'score': 0.9314203262329102},\n",
       " {'label': 'negative', 'score': 0.9825199842453003},\n",
       " {'label': 'negative', 'score': 0.9383285045623779},\n",
       " {'label': 'negative', 'score': 0.9943104982376099},\n",
       " {'label': 'positive', 'score': 0.5885582566261292},\n",
       " {'label': 'negative', 'score': 0.9815238118171692},\n",
       " {'label': 'negative', 'score': 0.9922651052474976},\n",
       " {'label': 'neutral', 'score': 0.4318985342979431},\n",
       " {'label': 'negative', 'score': 0.9596773386001587},\n",
       " {'label': 'negative', 'score': 0.8185003399848938},\n",
       " {'label': 'neutral', 'score': 0.9886265397071838},\n",
       " {'label': 'neutral', 'score': 0.9792408347129822},\n",
       " {'label': 'negative', 'score': 0.9908018708229065},\n",
       " {'label': 'negative', 'score': 0.9835785627365112},\n",
       " {'label': 'negative', 'score': 0.8965051174163818},\n",
       " {'label': 'positive', 'score': 0.9872413873672485},\n",
       " {'label': 'negative', 'score': 0.6531423926353455},\n",
       " {'label': 'negative', 'score': 0.680411696434021},\n",
       " {'label': 'neutral', 'score': 0.5242840647697449},\n",
       " {'label': 'negative', 'score': 0.9890409111976624},\n",
       " {'label': 'negative', 'score': 0.9953556060791016},\n",
       " {'label': 'negative', 'score': 0.9943619966506958},\n",
       " {'label': 'negative', 'score': 0.9960338473320007},\n",
       " {'label': 'neutral', 'score': 0.7385557889938354},\n",
       " {'label': 'negative', 'score': 0.9649555087089539},\n",
       " {'label': 'negative', 'score': 0.9954322576522827},\n",
       " {'label': 'positive', 'score': 0.9488224983215332},\n",
       " {'label': 'negative', 'score': 0.9947509169578552},\n",
       " {'label': 'neutral', 'score': 0.6505653858184814},\n",
       " {'label': 'negative', 'score': 0.8992514610290527},\n",
       " {'label': 'negative', 'score': 0.9501435160636902},\n",
       " {'label': 'neutral', 'score': 0.9803593158721924},\n",
       " {'label': 'positive', 'score': 0.9901812672615051},\n",
       " {'label': 'neutral', 'score': 0.9897081851959229},\n",
       " {'label': 'negative', 'score': 0.4185904562473297},\n",
       " {'label': 'neutral', 'score': 0.5555605292320251},\n",
       " {'label': 'neutral', 'score': 0.87939453125},\n",
       " {'label': 'positive', 'score': 0.8857389092445374},\n",
       " {'label': 'negative', 'score': 0.9956537485122681},\n",
       " {'label': 'neutral', 'score': 0.8227567076683044},\n",
       " {'label': 'neutral', 'score': 0.966536283493042},\n",
       " {'label': 'negative', 'score': 0.9833366274833679},\n",
       " {'label': 'neutral', 'score': 0.6932362914085388},\n",
       " {'label': 'negative', 'score': 0.9935486912727356},\n",
       " {'label': 'neutral', 'score': 0.8880115151405334},\n",
       " {'label': 'negative', 'score': 0.9919899106025696},\n",
       " {'label': 'neutral', 'score': 0.9606397747993469},\n",
       " {'label': 'positive', 'score': 0.8025123476982117},\n",
       " {'label': 'negative', 'score': 0.9925712943077087},\n",
       " {'label': 'neutral', 'score': 0.6632974147796631},\n",
       " {'label': 'negative', 'score': 0.9933735132217407},\n",
       " {'label': 'negative', 'score': 0.9963610768318176},\n",
       " {'label': 'neutral', 'score': 0.9901884198188782},\n",
       " {'label': 'neutral', 'score': 0.9054968357086182},\n",
       " {'label': 'negative', 'score': 0.6664247512817383},\n",
       " {'label': 'negative', 'score': 0.9942301511764526},\n",
       " {'label': 'negative', 'score': 0.9953044652938843},\n",
       " {'label': 'negative', 'score': 0.9896546602249146},\n",
       " {'label': 'positive', 'score': 0.9631672501564026},\n",
       " {'label': 'positive', 'score': 0.8878661394119263},\n",
       " {'label': 'negative', 'score': 0.9929890632629395},\n",
       " {'label': 'positive', 'score': 0.8710553646087646},\n",
       " {'label': 'neutral', 'score': 0.9879399538040161},\n",
       " {'label': 'neutral', 'score': 0.6768923401832581},\n",
       " {'label': 'negative', 'score': 0.9967976212501526},\n",
       " {'label': 'negative', 'score': 0.9671444892883301},\n",
       " {'label': 'neutral', 'score': 0.8172080516815186},\n",
       " {'label': 'positive', 'score': 0.9431142807006836},\n",
       " {'label': 'negative', 'score': 0.9928820133209229},\n",
       " {'label': 'negative', 'score': 0.9958170056343079},\n",
       " {'label': 'negative', 'score': 0.995492696762085},\n",
       " {'label': 'positive', 'score': 0.9857417345046997},\n",
       " {'label': 'neutral', 'score': 0.9690105319023132},\n",
       " {'label': 'negative', 'score': 0.9964009523391724},\n",
       " {'label': 'negative', 'score': 0.9748436808586121},\n",
       " {'label': 'negative', 'score': 0.9966623783111572},\n",
       " {'label': 'negative', 'score': 0.964079737663269},\n",
       " {'label': 'negative', 'score': 0.9888296723365784},\n",
       " {'label': 'negative', 'score': 0.974050760269165},\n",
       " {'label': 'neutral', 'score': 0.9811315536499023},\n",
       " {'label': 'positive', 'score': 0.9583809971809387},\n",
       " {'label': 'negative', 'score': 0.9618998169898987},\n",
       " {'label': 'negative', 'score': 0.973820686340332},\n",
       " {'label': 'negative', 'score': 0.9955691695213318},\n",
       " {'label': 'negative', 'score': 0.9828632473945618},\n",
       " {'label': 'neutral', 'score': 0.9900366067886353},\n",
       " {'label': 'negative', 'score': 0.9730519652366638},\n",
       " {'label': 'positive', 'score': 0.9211907386779785},\n",
       " {'label': 'negative', 'score': 0.995435893535614},\n",
       " {'label': 'negative', 'score': 0.5269151926040649},\n",
       " {'label': 'positive', 'score': 0.7481771111488342},\n",
       " {'label': 'negative', 'score': 0.9964439272880554},\n",
       " {'label': 'positive', 'score': 0.9170781970024109},\n",
       " {'label': 'negative', 'score': 0.9949057102203369},\n",
       " {'label': 'negative', 'score': 0.9959508180618286},\n",
       " {'label': 'negative', 'score': 0.9957180619239807},\n",
       " {'label': 'negative', 'score': 0.993549644947052},\n",
       " {'label': 'positive', 'score': 0.6921916604042053},\n",
       " {'label': 'positive', 'score': 0.9904308915138245},\n",
       " {'label': 'neutral', 'score': 0.925338089466095},\n",
       " {'label': 'negative', 'score': 0.7157559990882874},\n",
       " {'label': 'negative', 'score': 0.9858344197273254},\n",
       " {'label': 'negative', 'score': 0.9948787689208984},\n",
       " {'label': 'neutral', 'score': 0.9222086071968079},\n",
       " {'label': 'negative', 'score': 0.9957671165466309},\n",
       " {'label': 'negative', 'score': 0.9960198998451233},\n",
       " {'label': 'negative', 'score': 0.995987594127655},\n",
       " {'label': 'negative', 'score': 0.9904497265815735},\n",
       " {'label': 'negative', 'score': 0.9922460913658142},\n",
       " {'label': 'neutral', 'score': 0.9896009564399719},\n",
       " {'label': 'neutral', 'score': 0.7097925543785095},\n",
       " {'label': 'negative', 'score': 0.9670042395591736},\n",
       " {'label': 'positive', 'score': 0.7612991333007812},\n",
       " {'label': 'neutral', 'score': 0.7026204466819763},\n",
       " {'label': 'negative', 'score': 0.9851437211036682},\n",
       " {'label': 'positive', 'score': 0.8332257866859436},\n",
       " {'label': 'negative', 'score': 0.9961655139923096},\n",
       " {'label': 'negative', 'score': 0.9802271127700806},\n",
       " {'label': 'negative', 'score': 0.9885939359664917},\n",
       " {'label': 'positive', 'score': 0.9399254322052002},\n",
       " {'label': 'negative', 'score': 0.9886455535888672},\n",
       " {'label': 'negative', 'score': 0.9948012828826904},\n",
       " {'label': 'negative', 'score': 0.9923082590103149},\n",
       " {'label': 'negative', 'score': 0.8010263442993164},\n",
       " {'label': 'negative', 'score': 0.9455211758613586},\n",
       " {'label': 'positive', 'score': 0.9852935671806335},\n",
       " {'label': 'negative', 'score': 0.9953539371490479},\n",
       " {'label': 'negative', 'score': 0.7201130390167236},\n",
       " {'label': 'negative', 'score': 0.9338656663894653},\n",
       " {'label': 'neutral', 'score': 0.9880826473236084},\n",
       " {'label': 'negative', 'score': 0.9925610423088074},\n",
       " {'label': 'negative', 'score': 0.9957719445228577},\n",
       " {'label': 'neutral', 'score': 0.8415637612342834},\n",
       " {'label': 'negative', 'score': 0.9670373201370239},\n",
       " {'label': 'negative', 'score': 0.9951830506324768},\n",
       " {'label': 'negative', 'score': 0.9953163862228394},\n",
       " {'label': 'positive', 'score': 0.9753408432006836},\n",
       " {'label': 'negative', 'score': 0.994040310382843},\n",
       " {'label': 'negative', 'score': 0.8374022245407104},\n",
       " {'label': 'negative', 'score': 0.9821091890335083},\n",
       " {'label': 'negative', 'score': 0.8859574198722839},\n",
       " ...]"
      ]
     },
     "execution_count": 32,
     "metadata": {},
     "output_type": "execute_result"
    }
   ],
   "source": [
    "test_pred"
   ]
  },
  {
   "cell_type": "code",
   "execution_count": 33,
   "metadata": {
    "tags": []
   },
   "outputs": [],
   "source": [
    "def get_label(d):\n",
    "    return int(d['label'].split('_')[1])"
   ]
  },
  {
   "cell_type": "code",
   "execution_count": 34,
   "metadata": {
    "tags": []
   },
   "outputs": [
    {
     "ename": "IndexError",
     "evalue": "list index out of range",
     "output_type": "error",
     "traceback": [
      "\u001b[0;31m---------------------------------------------------------------------------\u001b[0m",
      "\u001b[0;31mIndexError\u001b[0m                                Traceback (most recent call last)",
      "Cell \u001b[0;32mIn [34], line 1\u001b[0m\n\u001b[0;32m----> 1\u001b[0m test_pred \u001b[38;5;241m=\u001b[39m [get_label(d) \u001b[38;5;28;01mfor\u001b[39;00m d \u001b[38;5;129;01min\u001b[39;00m test_pred]\n",
      "Cell \u001b[0;32mIn [34], line 1\u001b[0m, in \u001b[0;36m<listcomp>\u001b[0;34m(.0)\u001b[0m\n\u001b[0;32m----> 1\u001b[0m test_pred \u001b[38;5;241m=\u001b[39m [\u001b[43mget_label\u001b[49m\u001b[43m(\u001b[49m\u001b[43md\u001b[49m\u001b[43m)\u001b[49m \u001b[38;5;28;01mfor\u001b[39;00m d \u001b[38;5;129;01min\u001b[39;00m test_pred]\n",
      "Cell \u001b[0;32mIn [33], line 2\u001b[0m, in \u001b[0;36mget_label\u001b[0;34m(d)\u001b[0m\n\u001b[1;32m      1\u001b[0m \u001b[38;5;28;01mdef\u001b[39;00m \u001b[38;5;21mget_label\u001b[39m(d):\n\u001b[0;32m----> 2\u001b[0m     \u001b[38;5;28;01mreturn\u001b[39;00m \u001b[38;5;28mint\u001b[39m(\u001b[43md\u001b[49m\u001b[43m[\u001b[49m\u001b[38;5;124;43m'\u001b[39;49m\u001b[38;5;124;43mlabel\u001b[39;49m\u001b[38;5;124;43m'\u001b[39;49m\u001b[43m]\u001b[49m\u001b[38;5;241;43m.\u001b[39;49m\u001b[43msplit\u001b[49m\u001b[43m(\u001b[49m\u001b[38;5;124;43m'\u001b[39;49m\u001b[38;5;124;43m_\u001b[39;49m\u001b[38;5;124;43m'\u001b[39;49m\u001b[43m)\u001b[49m\u001b[43m[\u001b[49m\u001b[38;5;241;43m1\u001b[39;49m\u001b[43m]\u001b[49m)\n",
      "\u001b[0;31mIndexError\u001b[0m: list index out of range"
     ]
    }
   ],
   "source": [
    "test_pred = [get_label(d) for d in test_pred]"
   ]
  },
  {
   "cell_type": "code",
   "execution_count": null,
   "metadata": {
    "tags": []
   },
   "outputs": [],
   "source": [
    "print(\"Acc:\", accuracy_score(split['test']['label'], test_pred))"
   ]
  },
  {
   "cell_type": "code",
   "execution_count": null,
   "metadata": {
    "tags": []
   },
   "outputs": [],
   "source": [
    "print(\"F1 Score:\",f1_score(split['test']['label'], test_pred,average='macro'))"
   ]
  },
  {
   "cell_type": "code",
   "execution_count": null,
   "metadata": {
    "tags": []
   },
   "outputs": [],
   "source": [
    "def plot_confusion_matrix(cm):\n",
    "    classes = ['negative', 'posotive', 'neutral']\n",
    "    df_cm = pd.DataFrame(cm, index=classes, columns=classes)\n",
    "    ax = sn.heatmap(df_cm, annot=True, fmt='g')\n",
    "    ax.set_xlabel(\"Predicted\")\n",
    "    ax.set_ylabel(\"Target\")\n",
    "\n",
    "cm = confusion_matrix(split['test']['label'], test_pred, normalize = 'true')\n",
    "plot_confusion_matrix(cm)    "
   ]
  },
  {
   "cell_type": "code",
   "execution_count": null,
   "metadata": {},
   "outputs": [],
   "source": [
    "s = split['test']['sentence'][0]\n",
    "print(s)\n",
    "saved_model(s)"
   ]
  },
  {
   "cell_type": "code",
   "execution_count": null,
   "metadata": {},
   "outputs": [],
   "source": []
  }
 ],
 "metadata": {
  "kernelspec": {
   "display_name": "Python 3 (ipykernel)",
   "language": "python",
   "name": "python3"
  },
  "language_info": {
   "codemirror_mode": {
    "name": "ipython",
    "version": 3
   },
   "file_extension": ".py",
   "mimetype": "text/x-python",
   "name": "python",
   "nbconvert_exporter": "python",
   "pygments_lexer": "ipython3",
   "version": "3.8.0"
  }
 },
 "nbformat": 4,
 "nbformat_minor": 4
}
